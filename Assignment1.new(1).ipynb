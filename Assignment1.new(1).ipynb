{
 "cells": [
  {
   "cell_type": "markdown",
   "id": "d3c2db6b-de1f-4aa9-9fc8-1b7035e33f04",
   "metadata": {},
   "source": [
    "Q1. Create one variable containing following type of data:\n",
    "(i) string\n",
    "(ii) list\n",
    "(iii) float\n",
    "(iv) tuple"
   ]
  },
  {
   "cell_type": "code",
   "execution_count": 1,
   "id": "2a936641-a13b-4825-b7c8-7c22e28f8912",
   "metadata": {},
   "outputs": [],
   "source": [
    "my_str = \"Ajay Shrivas\""
   ]
  },
  {
   "cell_type": "code",
   "execution_count": 2,
   "id": "362fbca7-b5b8-4f7f-a5c1-665740933994",
   "metadata": {},
   "outputs": [
    {
     "data": {
      "text/plain": [
       "'Ajay Shrivas'"
      ]
     },
     "execution_count": 2,
     "metadata": {},
     "output_type": "execute_result"
    }
   ],
   "source": [
    "my_str"
   ]
  },
  {
   "cell_type": "markdown",
   "id": "25bf036d-cb29-4ce5-90ca-affdb1c7a99d",
   "metadata": {
    "tags": []
   },
   "source": [
    "#list"
   ]
  },
  {
   "cell_type": "code",
   "execution_count": 4,
   "id": "ef1a044b-138e-4d8c-b9bd-5a126c63407b",
   "metadata": {},
   "outputs": [],
   "source": [
    "my_list = [1,2,3,4,5,\"ajay\", \"4+8j\", True]"
   ]
  },
  {
   "cell_type": "code",
   "execution_count": 5,
   "id": "310f577e-05a8-4a59-825a-543ca1362ce3",
   "metadata": {},
   "outputs": [
    {
     "data": {
      "text/plain": [
       "[1, 2, 3, 4, 5, 'ajay', '4+8j', True]"
      ]
     },
     "execution_count": 5,
     "metadata": {},
     "output_type": "execute_result"
    }
   ],
   "source": [
    "my_list"
   ]
  },
  {
   "cell_type": "markdown",
   "id": "f42b4e08-6ac7-4860-b013-205338c35817",
   "metadata": {},
   "source": [
    "#float"
   ]
  },
  {
   "cell_type": "code",
   "execution_count": 6,
   "id": "ea0a4d3a-ea66-4577-8bde-68549aae26e5",
   "metadata": {},
   "outputs": [],
   "source": [
    "my_float = 2.23"
   ]
  },
  {
   "cell_type": "code",
   "execution_count": 7,
   "id": "6d87f17d-0829-477c-be19-ab1a2aae6c32",
   "metadata": {},
   "outputs": [
    {
     "data": {
      "text/plain": [
       "2.23"
      ]
     },
     "execution_count": 7,
     "metadata": {},
     "output_type": "execute_result"
    }
   ],
   "source": [
    "my_float"
   ]
  },
  {
   "cell_type": "markdown",
   "id": "0bf3b74f-d128-4b7c-bae9-d80becd2f736",
   "metadata": {},
   "source": [
    "#tuple"
   ]
  },
  {
   "cell_type": "code",
   "execution_count": 8,
   "id": "7d56d06b-0216-4a5c-9a87-a2aa95d6ad07",
   "metadata": {},
   "outputs": [],
   "source": [
    "my_tuple = (1,2,3,4,5,6,\"Classes\", \"Students\")"
   ]
  },
  {
   "cell_type": "code",
   "execution_count": 9,
   "id": "712df059-1c64-4199-b464-66fa8beb062b",
   "metadata": {},
   "outputs": [
    {
     "data": {
      "text/plain": [
       "(1, 2, 3, 4, 5, 6, 'Classes', 'Students')"
      ]
     },
     "execution_count": 9,
     "metadata": {},
     "output_type": "execute_result"
    }
   ],
   "source": [
    "my_tuple"
   ]
  },
  {
   "cell_type": "markdown",
   "id": "197e243e-37fe-4473-8266-32dcf1a7269b",
   "metadata": {},
   "source": [
    "Q2. Given are some following variables containing data:\n",
    "(i) var1 = ‘ ‘\n",
    "(ii) var2 = ‘[ DS , ML , Python]’\n",
    "(iii) var3 = [ ‘DS’ , ’ML’ , ‘Python’ ]\n",
    "(iv) var4 = 1."
   ]
  },
  {
   "cell_type": "code",
   "execution_count": 10,
   "id": "b9fd79eb-4fa1-44ca-9a99-1b19d2aadd9a",
   "metadata": {},
   "outputs": [],
   "source": [
    "var1 = ''"
   ]
  },
  {
   "cell_type": "code",
   "execution_count": 11,
   "id": "caf4bafe-b065-46cb-bfc8-9d510d9999e7",
   "metadata": {},
   "outputs": [
    {
     "data": {
      "text/plain": [
       "str"
      ]
     },
     "execution_count": 11,
     "metadata": {},
     "output_type": "execute_result"
    }
   ],
   "source": [
    "type(var1)"
   ]
  },
  {
   "cell_type": "code",
   "execution_count": 12,
   "id": "4a702f3d-5ae0-4d85-bc0a-d27a3f0f5097",
   "metadata": {},
   "outputs": [],
   "source": [
    "var2 = '[DS, ML, Python]'"
   ]
  },
  {
   "cell_type": "code",
   "execution_count": 13,
   "id": "770b0405-6e7e-4e0d-94c3-d33d1a63ef9e",
   "metadata": {},
   "outputs": [
    {
     "data": {
      "text/plain": [
       "str"
      ]
     },
     "execution_count": 13,
     "metadata": {},
     "output_type": "execute_result"
    }
   ],
   "source": [
    "type(var2)"
   ]
  },
  {
   "cell_type": "code",
   "execution_count": 14,
   "id": "54ff90ea-1083-4036-9dd2-6c2941d2912a",
   "metadata": {},
   "outputs": [],
   "source": [
    "var3 = ['DS', 'ML', 'Python']"
   ]
  },
  {
   "cell_type": "code",
   "execution_count": 15,
   "id": "869a274d-1784-482b-a7d0-29c1111dd947",
   "metadata": {},
   "outputs": [
    {
     "data": {
      "text/plain": [
       "list"
      ]
     },
     "execution_count": 15,
     "metadata": {},
     "output_type": "execute_result"
    }
   ],
   "source": [
    "type(var3)"
   ]
  },
  {
   "cell_type": "code",
   "execution_count": 16,
   "id": "7b504558-db01-46ef-bfdf-5fe99d3e16e9",
   "metadata": {},
   "outputs": [],
   "source": [
    "var4 = 1"
   ]
  },
  {
   "cell_type": "code",
   "execution_count": 17,
   "id": "5d962eee-1c2e-4764-94c0-f5b439d303a7",
   "metadata": {},
   "outputs": [
    {
     "data": {
      "text/plain": [
       "int"
      ]
     },
     "execution_count": 17,
     "metadata": {},
     "output_type": "execute_result"
    }
   ],
   "source": [
    "type(var4)"
   ]
  },
  {
   "cell_type": "markdown",
   "id": "e01c3dcb-faf4-44f4-a591-a976fa647c39",
   "metadata": {},
   "source": [
    "Q3. Explain the use of the following operators using an example:\n",
    "(i) /\n",
    "(ii) %\n",
    "(iii) //\n",
    "(iv) **"
   ]
  },
  {
   "cell_type": "code",
   "execution_count": 20,
   "id": "4a2b5a0c-393b-473e-9bf6-de08daacd3eb",
   "metadata": {},
   "outputs": [],
   "source": [
    "#operation / is use for division.when we have to divide two no.s then we are using this operator.  example is \n",
    "\n",
    "var1 = 10\n",
    "var2 = 5 \n",
    "var3 = var1/var2"
   ]
  },
  {
   "cell_type": "code",
   "execution_count": 21,
   "id": "a44a43d0-980c-4bf6-aefb-3b0e612d7b7d",
   "metadata": {},
   "outputs": [
    {
     "data": {
      "text/plain": [
       "2.0"
      ]
     },
     "execution_count": 21,
     "metadata": {},
     "output_type": "execute_result"
    }
   ],
   "source": [
    "var3"
   ]
  },
  {
   "cell_type": "code",
   "execution_count": 27,
   "id": "2485b1ba-ad9f-4d40-9c08-73ce9d1efa40",
   "metadata": {},
   "outputs": [],
   "source": [
    "# % operator is use for modulus/reminder for example \n",
    "\n",
    "var1 = 11 \n",
    "var2 = 5 \n",
    "reminder = var1 % var2"
   ]
  },
  {
   "cell_type": "raw",
   "id": "3cc889e7-55b3-4c7f-9048-6d1371ec3146",
   "metadata": {},
   "source": [
    "print(reminder)"
   ]
  },
  {
   "cell_type": "code",
   "execution_count": null,
   "id": "1e09cb20-7678-4648-aefa-58fae432c65b",
   "metadata": {},
   "outputs": [],
   "source": []
  },
  {
   "cell_type": "code",
   "execution_count": 30,
   "id": "eba4ce62-c6c4-47d2-8267-049751047c13",
   "metadata": {},
   "outputs": [],
   "source": [
    "#// this operator is use for float."
   ]
  },
  {
   "cell_type": "code",
   "execution_count": 33,
   "id": "66aeec0e-4cb9-43b7-8bc6-d0b5119faf4f",
   "metadata": {},
   "outputs": [],
   "source": [
    "var1 = 11 \n",
    "var2 = 5\n",
    "my_float = var1 // var2"
   ]
  },
  {
   "cell_type": "code",
   "execution_count": 34,
   "id": "ef3c98bc-281b-4ec5-a59b-27243087ceac",
   "metadata": {},
   "outputs": [
    {
     "data": {
      "text/plain": [
       "2"
      ]
     },
     "execution_count": 34,
     "metadata": {},
     "output_type": "execute_result"
    }
   ],
   "source": [
    "my_float"
   ]
  },
  {
   "cell_type": "code",
   "execution_count": 35,
   "id": "ceca3bfa-bb67-436d-95f1-e157dabb5d74",
   "metadata": {},
   "outputs": [],
   "source": [
    "# ** this is use for power, for example \n",
    "var1 = 2**3 # it will give you answer as 8 (2*2*2)"
   ]
  },
  {
   "cell_type": "code",
   "execution_count": 36,
   "id": "7a74a07e-c25f-4884-8c2c-de78ac00c4a7",
   "metadata": {},
   "outputs": [
    {
     "data": {
      "text/plain": [
       "8"
      ]
     },
     "execution_count": 36,
     "metadata": {},
     "output_type": "execute_result"
    }
   ],
   "source": [
    "var1"
   ]
  },
  {
   "cell_type": "markdown",
   "id": "41ced776-efd7-48d6-9839-a22e49867df0",
   "metadata": {},
   "source": [
    "Q4. Create a list of length 10 of your choice containing multiple types of data. Using for loop print the\n",
    "element and its data type."
   ]
  },
  {
   "cell_type": "code",
   "execution_count": 37,
   "id": "958916fc-9a05-43b8-932a-c4b5358966f6",
   "metadata": {},
   "outputs": [],
   "source": [
    "my_list = [1,2,3,\"ajay\", \"cloud\", 20.31, True, 2+9j]"
   ]
  },
  {
   "cell_type": "code",
   "execution_count": 39,
   "id": "1f5f8cee-dd2b-4b62-88d8-c78cd8861738",
   "metadata": {},
   "outputs": [
    {
     "name": "stdout",
     "output_type": "stream",
     "text": [
      "1\n",
      "2\n",
      "3\n",
      "ajay\n",
      "cloud\n",
      "20.31\n",
      "True\n",
      "(2+9j)\n"
     ]
    }
   ],
   "source": [
    "for i in my_list:\n",
    "    print(i)"
   ]
  },
  {
   "cell_type": "code",
   "execution_count": 40,
   "id": "490aa076-00d8-4b65-bbee-9c3059a9cd4e",
   "metadata": {},
   "outputs": [
    {
     "name": "stdout",
     "output_type": "stream",
     "text": [
      "<class 'int'>\n",
      "<class 'int'>\n",
      "<class 'int'>\n",
      "<class 'str'>\n",
      "<class 'str'>\n",
      "<class 'float'>\n",
      "<class 'bool'>\n",
      "<class 'complex'>\n"
     ]
    }
   ],
   "source": [
    "for i in my_list:\n",
    "    print(type(i))"
   ]
  },
  {
   "cell_type": "markdown",
   "id": "c02765c2-882b-4bef-8e3f-4d6ee53d8f8a",
   "metadata": {},
   "source": [
    "Q5. Using a while loop, verify if the number A is purely divisible by number B and if so then how many\n",
    "times it can be divisible."
   ]
  },
  {
   "cell_type": "code",
   "execution_count": null,
   "id": "b42fe9a5-8055-4b2b-9f19-9466d78e84ad",
   "metadata": {},
   "outputs": [],
   "source": [
    "var1 = 20\n",
    "var2 = 2\n",
    "while var1 % var2 == 0:\n",
    "    print"
   ]
  },
  {
   "cell_type": "markdown",
   "id": "4f64ad37-af67-4e85-9ec6-ccba6b8794a2",
   "metadata": {},
   "source": [
    "Q6. Create a list containing 25 int type data. Using for loop and if-else condition print if the element is\n",
    "divisible by 3 or not."
   ]
  },
  {
   "cell_type": "code",
   "execution_count": 13,
   "id": "dbb4b520-26aa-448f-b9c7-bc67c6fad8c2",
   "metadata": {},
   "outputs": [
    {
     "name": "stdout",
     "output_type": "stream",
     "text": [
      "1 is not divisible by 3\n",
      "2 is not divisible by 3\n",
      "3 is divisible by 3\n",
      "4 is not divisible by 3\n",
      "5 is not divisible by 3\n",
      "6 is divisible by 3\n",
      "7 is not divisible by 3\n",
      "8 is not divisible by 3\n",
      "9 is divisible by 3\n",
      "10 is not divisible by 3\n",
      "11 is not divisible by 3\n",
      "12 is divisible by 3\n",
      "13 is not divisible by 3\n",
      "14 is not divisible by 3\n",
      "15 is divisible by 3\n",
      "16 is not divisible by 3\n",
      "17 is not divisible by 3\n",
      "18 is divisible by 3\n",
      "19 is not divisible by 3\n",
      "20 is not divisible by 3\n",
      "21 is divisible by 3\n",
      "22 is not divisible by 3\n",
      "23 is not divisible by 3\n",
      "24 is divisible by 3\n",
      "25 is not divisible by 3\n"
     ]
    }
   ],
   "source": [
    "num = list(range(1,26)) # creating a list containing no.s from 1 to 25 \n",
    "\n",
    "for i in num: # to iterate each no in the list\n",
    "    if i % 3 == 0:\n",
    "       print (f\"{i} is divisible by 3\")\n",
    "    else: \n",
    "        print(f\"{i} is not divisible by 3\")\n",
    "    "
   ]
  },
  {
   "cell_type": "markdown",
   "id": "e2455004-44b2-4ead-9b76-f8b950c00908",
   "metadata": {},
   "source": [
    "Q7. What do you understand about mutable and immutable data types? Give examples for both showing\n",
    "this property."
   ]
  },
  {
   "cell_type": "code",
   "execution_count": 7,
   "id": "25fd12ab-7f5e-457f-990a-6ffeeadf2c1a",
   "metadata": {},
   "outputs": [
    {
     "name": "stdout",
     "output_type": "stream",
     "text": [
      "20\n",
      "[1, 2, 3, 4, 'Six']\n"
     ]
    }
   ],
   "source": [
    "#mutable when we can change value of an object after created and immutable, when value can't change after object has created. for example \n",
    "\n",
    "var1 = 10 \n",
    "var1 = 20\n",
    "print(var1) # Here when we have to change a int variable value then we have to create a new variable. it is not changing value in the existing variable\n",
    "\n",
    "my_list = [1,2,3,4,6] # if I want to change 6 as Six then i can do this changes on the existing list through the indexing.\n",
    "my_list[4]= \"Six\"\n",
    "print(my_list)"
   ]
  },
  {
   "cell_type": "code",
   "execution_count": null,
   "id": "12135ba4-cf3f-4cdf-8e1a-01580264d38f",
   "metadata": {},
   "outputs": [],
   "source": []
  },
  {
   "cell_type": "code",
   "execution_count": null,
   "id": "40700fa2-6352-4a33-9b92-524cdd8ed361",
   "metadata": {},
   "outputs": [],
   "source": []
  }
 ],
 "metadata": {
  "kernelspec": {
   "display_name": "Python 3 (ipykernel)",
   "language": "python",
   "name": "python3"
  },
  "language_info": {
   "codemirror_mode": {
    "name": "ipython",
    "version": 3
   },
   "file_extension": ".py",
   "mimetype": "text/x-python",
   "name": "python",
   "nbconvert_exporter": "python",
   "pygments_lexer": "ipython3",
   "version": "3.10.8"
  }
 },
 "nbformat": 4,
 "nbformat_minor": 5
}
