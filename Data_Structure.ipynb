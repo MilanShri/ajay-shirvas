{
  "nbformat": 4,
  "nbformat_minor": 0,
  "metadata": {
    "colab": {
      "provenance": [],
      "authorship_tag": "ABX9TyOh5yYw1p/jc5cu8ZUC7iHj",
      "include_colab_link": true
    },
    "kernelspec": {
      "name": "python3",
      "display_name": "Python 3"
    },
    "language_info": {
      "name": "python"
    }
  },
  "cells": [
    {
      "cell_type": "markdown",
      "metadata": {
        "id": "view-in-github",
        "colab_type": "text"
      },
      "source": [
        "<a href=\"https://colab.research.google.com/github/MilanShri/ajay-shirvas/blob/main/Data_Structure.ipynb\" target=\"_parent\"><img src=\"https://colab.research.google.com/assets/colab-badge.svg\" alt=\"Open In Colab\"/></a>"
      ]
    },
    {
      "cell_type": "markdown",
      "source": [
        "Ques 1) Discuss string slicing and provide examples"
      ],
      "metadata": {
        "id": "OUtsvNivoDd6"
      }
    },
    {
      "cell_type": "code",
      "execution_count": null,
      "metadata": {
        "colab": {
          "base_uri": "https://localhost:8080/",
          "height": 53
        },
        "id": "ETv160c2qsfC",
        "outputId": "dfb66f97-c167-43c5-b2ff-da0758b62597"
      },
      "outputs": [
        {
          "output_type": "stream",
          "name": "stdout",
          "text": [
            " Broad Minded\n"
          ]
        },
        {
          "output_type": "execute_result",
          "data": {
            "text/plain": [
              "'iniva'"
            ],
            "application/vnd.google.colaboratory.intrinsic+json": {
              "type": "string"
            }
          },
          "metadata": {},
          "execution_count": 5
        }
      ],
      "source": [
        "\n",
        "\n",
        "# String Slicing is about how to access characters of a string.\n",
        "# We can access characters or elements with help of indexing.\n",
        "\n",
        "title = \"The Broad Minded Games and algorithms.\" #if want to access \"Broad minded from this title variable then with the help of indexing we can do that.\"\n",
        "name = title[3:16]\n",
        "print(name)\n",
        "\n",
        "name = \"Ajay Shrinivas\"\n",
        "name[-6:-1] # this is called negative indexing.\n"
      ]
    },
    {
      "cell_type": "markdown",
      "source": [
        "Ques 2) Explain the key features of lists in Python"
      ],
      "metadata": {
        "id": "5YwLvoQFsMbY"
      }
    },
    {
      "cell_type": "code",
      "source": [
        "# List is represent by []\n",
        "# list is ordered, indexing, and changable/ mutable, which means that we can change elements inside the list.\n",
        "# list is hetrogenous, means can store any data type eg- int, str, bool, complex no., list itself.\n",
        "\n",
        "list1 = [1,2,3,4,5,6,\"Ajay\", \"Bob\", [\"khan sir\", \"sandeep\", \"Ram\", \"Shiv\"]]\n",
        "list1"
      ],
      "metadata": {
        "colab": {
          "base_uri": "https://localhost:8080/"
        },
        "id": "y-rxB68SrqJ9",
        "outputId": "bb0b5c05-d44a-4c92-a738-3162e832f827"
      },
      "execution_count": null,
      "outputs": [
        {
          "output_type": "execute_result",
          "data": {
            "text/plain": [
              "[1, 2, 3, 4, 5, 6, 'Ajay', 'Bob', ['khan sir', 'sandeep', 'Ram', 'Shiv']]"
            ]
          },
          "metadata": {},
          "execution_count": 7
        }
      ]
    },
    {
      "cell_type": "markdown",
      "source": [
        " Ques 3) Describe how to access, modify, and delete elements in a list with examples"
      ],
      "metadata": {
        "id": "vcuSyT7vtJMt"
      }
    },
    {
      "cell_type": "code",
      "source": [
        "# Access  - with the help of indexing we can access element in the list\n",
        "list1"
      ],
      "metadata": {
        "colab": {
          "base_uri": "https://localhost:8080/"
        },
        "id": "pq53ZteEtB4q",
        "outputId": "9dd04cfc-e118-43c1-d098-7813c85f127d"
      },
      "execution_count": null,
      "outputs": [
        {
          "output_type": "execute_result",
          "data": {
            "text/plain": [
              "[1, 2, 3, 4, 5, 6, 'Ajay', 'Bob', ['khan sir', 'sandeep', 'Ram', 'Shiv']]"
            ]
          },
          "metadata": {},
          "execution_count": 8
        }
      ]
    },
    {
      "cell_type": "code",
      "source": [
        "list1[0:5]"
      ],
      "metadata": {
        "colab": {
          "base_uri": "https://localhost:8080/"
        },
        "id": "BOoVZY0rtd5z",
        "outputId": "b5a87245-bc3a-41a4-e36d-d5796b782997"
      },
      "execution_count": null,
      "outputs": [
        {
          "output_type": "execute_result",
          "data": {
            "text/plain": [
              "[1, 2, 3, 4, 5]"
            ]
          },
          "metadata": {},
          "execution_count": 9
        }
      ]
    },
    {
      "cell_type": "code",
      "source": [
        "list1[8][2]"
      ],
      "metadata": {
        "colab": {
          "base_uri": "https://localhost:8080/",
          "height": 36
        },
        "id": "8tXytzHutjCR",
        "outputId": "741f8374-a3ac-4434-d690-0627dd438037"
      },
      "execution_count": null,
      "outputs": [
        {
          "output_type": "execute_result",
          "data": {
            "text/plain": [
              "'Ram'"
            ],
            "application/vnd.google.colaboratory.intrinsic+json": {
              "type": "string"
            }
          },
          "metadata": {},
          "execution_count": 11
        }
      ]
    },
    {
      "cell_type": "code",
      "source": [
        "# add items through the append method\n",
        "\n",
        "list1.append(\"PWskills student\")\n",
        "list1"
      ],
      "metadata": {
        "colab": {
          "base_uri": "https://localhost:8080/"
        },
        "id": "_sPFhYX1tnHi",
        "outputId": "140111c0-14b6-4fa9-ef82-b1137f659071"
      },
      "execution_count": null,
      "outputs": [
        {
          "output_type": "execute_result",
          "data": {
            "text/plain": [
              "[1,\n",
              " 2,\n",
              " 3,\n",
              " 4,\n",
              " 5,\n",
              " 6,\n",
              " 'Ajay',\n",
              " 'Bob',\n",
              " ['khan sir', 'sandeep', 'Ram', 'Shiv'],\n",
              " 'PWskills student']"
            ]
          },
          "metadata": {},
          "execution_count": 12
        }
      ]
    },
    {
      "cell_type": "code",
      "source": [
        "# del elements from the list. It is showing a error, i dont know why ?\n",
        "print(list1)\n",
        "list1.remove(2)\n",
        "list1\n"
      ],
      "metadata": {
        "colab": {
          "base_uri": "https://localhost:8080/",
          "height": 211
        },
        "id": "bKoCpYoVt6E7",
        "outputId": "fe64671f-53a0-439d-d987-99ad0ff527f7"
      },
      "execution_count": null,
      "outputs": [
        {
          "output_type": "stream",
          "name": "stdout",
          "text": [
            "[1, 3, 4, 5, 6, 'Bob', ['khan sir', 'sandeep', 'Ram', 'Shiv'], 'PWskills student']\n"
          ]
        },
        {
          "output_type": "error",
          "ename": "ValueError",
          "evalue": "list.remove(x): x not in list",
          "traceback": [
            "\u001b[0;31m---------------------------------------------------------------------------\u001b[0m",
            "\u001b[0;31mValueError\u001b[0m                                Traceback (most recent call last)",
            "\u001b[0;32m<ipython-input-22-ba654a7cd2a7>\u001b[0m in \u001b[0;36m<cell line: 3>\u001b[0;34m()\u001b[0m\n\u001b[1;32m      1\u001b[0m \u001b[0;31m# del elements\u001b[0m\u001b[0;34m\u001b[0m\u001b[0;34m\u001b[0m\u001b[0m\n\u001b[1;32m      2\u001b[0m \u001b[0mprint\u001b[0m\u001b[0;34m(\u001b[0m\u001b[0mlist1\u001b[0m\u001b[0;34m)\u001b[0m\u001b[0;34m\u001b[0m\u001b[0;34m\u001b[0m\u001b[0m\n\u001b[0;32m----> 3\u001b[0;31m \u001b[0mlist1\u001b[0m\u001b[0;34m.\u001b[0m\u001b[0mremove\u001b[0m\u001b[0;34m(\u001b[0m\u001b[0;36m2\u001b[0m\u001b[0;34m)\u001b[0m\u001b[0;34m\u001b[0m\u001b[0;34m\u001b[0m\u001b[0m\n\u001b[0m\u001b[1;32m      4\u001b[0m \u001b[0mlist1\u001b[0m\u001b[0;34m\u001b[0m\u001b[0;34m\u001b[0m\u001b[0m\n",
            "\u001b[0;31mValueError\u001b[0m: list.remove(x): x not in list"
          ]
        }
      ]
    },
    {
      "cell_type": "code",
      "source": [
        "# clear items in the list.\n",
        "print(list1)\n",
        "list1.clear()\n",
        "list1"
      ],
      "metadata": {
        "colab": {
          "base_uri": "https://localhost:8080/"
        },
        "id": "ahlVrKYit_3T",
        "outputId": "203bc6c4-fc36-4d4f-9e02-5dc661a79347"
      },
      "execution_count": null,
      "outputs": [
        {
          "output_type": "stream",
          "name": "stdout",
          "text": [
            "[]\n"
          ]
        },
        {
          "output_type": "execute_result",
          "data": {
            "text/plain": [
              "[]"
            ]
          },
          "metadata": {},
          "execution_count": 26
        }
      ]
    },
    {
      "cell_type": "code",
      "source": [
        "# del list # it is showing becoz we already clear the list.\n",
        "print(list1)\n",
        "del list1"
      ],
      "metadata": {
        "colab": {
          "base_uri": "https://localhost:8080/"
        },
        "id": "pEF6SgOxvTtk",
        "outputId": "9fe7fffc-9bd2-4de3-ee48-ce2f47c33c89"
      },
      "execution_count": null,
      "outputs": [
        {
          "output_type": "stream",
          "name": "stdout",
          "text": [
            "[]\n"
          ]
        }
      ]
    },
    {
      "cell_type": "markdown",
      "source": [
        "Ques 4) Compare and contrast tuples and lists with examples\n",
        "\n",
        "\"\"\" list\n",
        "      # list is represent by []\n",
        "      # mutable/ changable\n",
        "      #can add / remove elements in the list\n",
        "      # Hetrogenous in nature\n",
        "      # indexing/ordered\n",
        "      # duplicate is allowed\n",
        "\n",
        "    Tuples\n",
        "      # tuple is represent by ()\n",
        "      # immutable. unchangable\n",
        "      # can't add / remove elements in a tuple\n",
        "      # indexing/ordered\n",
        "      #can add list in a tuple or add tuple inside tuple called nested tuple"
      ],
      "metadata": {
        "id": "r3RuO4VIvq5R"
      }
    },
    {
      "cell_type": "code",
      "source": [
        "a = (40,50,60,70,80,90)\n",
        "a"
      ],
      "metadata": {
        "colab": {
          "base_uri": "https://localhost:8080/"
        },
        "id": "wIbUno9kv_ZI",
        "outputId": "d01621e4-f9e0-4d3b-d8e3-1965b16798d5"
      },
      "execution_count": null,
      "outputs": [
        {
          "output_type": "execute_result",
          "data": {
            "text/plain": [
              "(40, 50, 60, 70, 80, 90)"
            ]
          },
          "metadata": {},
          "execution_count": 35
        }
      ]
    },
    {
      "cell_type": "code",
      "source": [
        "print(a[0])"
      ],
      "metadata": {
        "colab": {
          "base_uri": "https://localhost:8080/"
        },
        "id": "bLWaeGoEwqx2",
        "outputId": "7bec197d-fabe-450d-9915-a9f62cf21f1b"
      },
      "execution_count": null,
      "outputs": [
        {
          "output_type": "stream",
          "name": "stdout",
          "text": [
            "40\n"
          ]
        }
      ]
    },
    {
      "cell_type": "markdown",
      "source": [
        " Ques 5) Describe the key features of sets and provide examples of their use\n",
        "\n",
        "\n",
        "\n",
        " #set represent by {}\n",
        " #set is unordered/ unchangable/ but can add or remove\n",
        " #set dont allow duplicate. give only unique values."
      ],
      "metadata": {
        "id": "ZJN2cZq5xA9Z"
      }
    },
    {
      "cell_type": "code",
      "source": [
        "set1 = {\"Animal\", \"Can\" , \"Ram\", \"Rani\", \"sita\", \"shiva\"}\n",
        "set1"
      ],
      "metadata": {
        "colab": {
          "base_uri": "https://localhost:8080/"
        },
        "id": "CKZSDuU1wueP",
        "outputId": "d1b638de-8ac1-423f-fbf3-ea51b4170c09"
      },
      "execution_count": null,
      "outputs": [
        {
          "output_type": "execute_result",
          "data": {
            "text/plain": [
              "{'Animal', 'Can', 'Ram', 'Rani', 'shiva', 'sita'}"
            ]
          },
          "metadata": {},
          "execution_count": 38
        }
      ]
    },
    {
      "cell_type": "code",
      "source": [
        "set1.add(1000)\n",
        "set1"
      ],
      "metadata": {
        "colab": {
          "base_uri": "https://localhost:8080/"
        },
        "id": "1icChmTix7er",
        "outputId": "0bb13625-87cc-4739-8895-e2e0cf8f589c"
      },
      "execution_count": null,
      "outputs": [
        {
          "output_type": "execute_result",
          "data": {
            "text/plain": [
              "{1000, 'Animal', 'Can', 'Ram', 'Rani', 'shiva', 'sita'}"
            ]
          },
          "metadata": {},
          "execution_count": 40
        }
      ]
    },
    {
      "cell_type": "code",
      "source": [
        "set2 = {20, 30,40,50}\n",
        "set2"
      ],
      "metadata": {
        "colab": {
          "base_uri": "https://localhost:8080/"
        },
        "id": "qFpYdNzHyZNH",
        "outputId": "d82a9548-3223-4179-dea0-67dc4e9649a9"
      },
      "execution_count": null,
      "outputs": [
        {
          "output_type": "execute_result",
          "data": {
            "text/plain": [
              "{20, 30, 40, 50}"
            ]
          },
          "metadata": {},
          "execution_count": 42
        }
      ]
    },
    {
      "cell_type": "code",
      "source": [
        "set1.union(set2) # add two sets"
      ],
      "metadata": {
        "colab": {
          "base_uri": "https://localhost:8080/"
        },
        "id": "Y8xSTqBsyrOz",
        "outputId": "61880063-c10d-4652-82b0-dc1ee2958639"
      },
      "execution_count": null,
      "outputs": [
        {
          "output_type": "execute_result",
          "data": {
            "text/plain": [
              "{1000, 20, 30, 40, 50, 'Animal', 'Can', 'Ram', 'Rani', 'shiva', 'sita'}"
            ]
          },
          "metadata": {},
          "execution_count": 44
        }
      ]
    },
    {
      "cell_type": "markdown",
      "source": [
        "Ques 6) Discuss the use cases of tuples and sets in Python programming ?\n",
        "\n",
        "Tuple is a immutable data structure. once define can change elements inside tuple. tuple use when we have to secure our original data so no one can edit it. Duplicate is allow, can access element through the indexing. tuple is hetrogeneous in nature. can store list also inside tupel.\n",
        "\n",
        "set - set is mutable, can be changed after creation. it is unordered means the elements position will not defined. but we can add and remove items/elements from the set."
      ],
      "metadata": {
        "id": "0VUU0hlfoeod"
      }
    },
    {
      "cell_type": "code",
      "source": [
        "tuple1 = (1,2,3,4,5,6,9,8,7,\"ajay\", \"ram\", 5+9j, [\"name1\", \"name2\", \"name3\"] )\n",
        "tuple1"
      ],
      "metadata": {
        "id": "blyJAbiiyv1P",
        "colab": {
          "base_uri": "https://localhost:8080/"
        },
        "outputId": "a98ae1b6-8a5d-41f7-e4a9-5714efc18369"
      },
      "execution_count": 2,
      "outputs": [
        {
          "output_type": "execute_result",
          "data": {
            "text/plain": [
              "(1, 2, 3, 4, 5, 6, 9, 8, 7, 'ajay', 'ram', (5+9j), ['name1', 'name2', 'name3'])"
            ]
          },
          "metadata": {},
          "execution_count": 2
        }
      ]
    },
    {
      "cell_type": "code",
      "source": [
        "set = {\"nam1\", \"name2\", \"name3\", \"name4\" , \"name\"}\n",
        "\n",
        "for a in set:\n",
        "  print(a)"
      ],
      "metadata": {
        "colab": {
          "base_uri": "https://localhost:8080/"
        },
        "id": "12uOui6ap8hq",
        "outputId": "77578a09-7349-47a7-8f70-0c913bf9284f"
      },
      "execution_count": 4,
      "outputs": [
        {
          "output_type": "stream",
          "name": "stdout",
          "text": [
            "name4\n",
            "name\n",
            "nam1\n",
            "name2\n",
            "name3\n"
          ]
        }
      ]
    },
    {
      "cell_type": "markdown",
      "source": [
        " Ques 7)  Describe how to add, modify, and delete items in a dictionary with examples."
      ],
      "metadata": {
        "id": "gHhlHeyfqoZO"
      }
    },
    {
      "cell_type": "code",
      "source": [
        "# Create a dictonary\n",
        "dict1 = {\n",
        "    \"name\" : \"Ajay\",\n",
        "    \"age\"  : \"23\",\n",
        "    \"position\" : \"system engineer\",\n",
        "    \"company\" : \"infosys\",\n",
        "    \"mode\" : \"hybrid\",\n",
        "}\n",
        "dict1"
      ],
      "metadata": {
        "colab": {
          "base_uri": "https://localhost:8080/"
        },
        "id": "Dr03LeLIqYy3",
        "outputId": "11cdc322-0a71-4f5d-ef09-80c9d7f9e90d"
      },
      "execution_count": 37,
      "outputs": [
        {
          "output_type": "execute_result",
          "data": {
            "text/plain": [
              "{'name': 'Ajay',\n",
              " 'age': '23',\n",
              " 'position': 'system engineer',\n",
              " 'company': 'infosys',\n",
              " 'mode': 'hybrid'}"
            ]
          },
          "metadata": {},
          "execution_count": 37
        }
      ]
    },
    {
      "cell_type": "code",
      "source": [
        "# if we want to add item in dict then use update() method.\n",
        "\n",
        "dict1.update({\"projects\": \"Travelers and Liberty bank\"})\n",
        "dict1"
      ],
      "metadata": {
        "colab": {
          "base_uri": "https://localhost:8080/"
        },
        "id": "1LOvgT-srFSi",
        "outputId": "802cc1e2-0a09-4cc2-a3e3-0b461b3e15e9"
      },
      "execution_count": 38,
      "outputs": [
        {
          "output_type": "execute_result",
          "data": {
            "text/plain": [
              "{'name': 'Ajay',\n",
              " 'age': '23',\n",
              " 'position': 'system engineer',\n",
              " 'company': 'infosys',\n",
              " 'mode': 'hybrid',\n",
              " 'projects': 'Travelers and Liberty bank'}"
            ]
          },
          "metadata": {},
          "execution_count": 38
        }
      ]
    },
    {
      "cell_type": "code",
      "source": [
        "dict1"
      ],
      "metadata": {
        "colab": {
          "base_uri": "https://localhost:8080/"
        },
        "id": "1eUz_CLNr5Lk",
        "outputId": "385e6813-7557-431f-ebae-2ef680ed4122"
      },
      "execution_count": 39,
      "outputs": [
        {
          "output_type": "execute_result",
          "data": {
            "text/plain": [
              "{'name': 'Ajay',\n",
              " 'age': '23',\n",
              " 'position': 'system engineer',\n",
              " 'company': 'infosys',\n",
              " 'mode': 'hybrid',\n",
              " 'projects': 'Travelers and Liberty bank'}"
            ]
          },
          "metadata": {},
          "execution_count": 39
        }
      ]
    },
    {
      "cell_type": "code",
      "source": [
        "dict1.pop(\"mode\") # it will remvoe mode key from the dict1."
      ],
      "metadata": {
        "colab": {
          "base_uri": "https://localhost:8080/",
          "height": 36
        },
        "id": "El_y2LRrstbU",
        "outputId": "1970b279-3aee-4d99-e05c-7a32178b8321"
      },
      "execution_count": 40,
      "outputs": [
        {
          "output_type": "execute_result",
          "data": {
            "text/plain": [
              "'hybrid'"
            ],
            "application/vnd.google.colaboratory.intrinsic+json": {
              "type": "string"
            }
          },
          "metadata": {},
          "execution_count": 40
        }
      ]
    },
    {
      "cell_type": "code",
      "source": [
        "dict1"
      ],
      "metadata": {
        "colab": {
          "base_uri": "https://localhost:8080/"
        },
        "id": "-5T-osGAtnRN",
        "outputId": "ca8d9ab2-1dfe-490f-ecf3-ebb7161d3cc3"
      },
      "execution_count": 41,
      "outputs": [
        {
          "output_type": "execute_result",
          "data": {
            "text/plain": [
              "{'name': 'Ajay',\n",
              " 'age': '23',\n",
              " 'position': 'system engineer',\n",
              " 'company': 'infosys',\n",
              " 'projects': 'Travelers and Liberty bank'}"
            ]
          },
          "metadata": {},
          "execution_count": 41
        }
      ]
    },
    {
      "cell_type": "markdown",
      "source": [
        "Ques 8)Discuss the importance of dictionary keys being immutable and provide examples\n",
        "\n",
        "\n",
        "ans)  In dict, the data is stored in key : value pair. we can access any value through the key name. as example- employee data should have any unique key so we can retrive that employee data. key is unique. In Python, immutable types include:\n",
        "\n",
        "Numbers (integers, floats, etc.)\n",
        "Strings\n",
        "Tuples (but not lists inside tuples, as they are mutable)\n",
        "Frozen sets\n",
        "\n"
      ],
      "metadata": {
        "id": "YYwkqDjet3q-"
      }
    },
    {
      "cell_type": "code",
      "source": [],
      "metadata": {
        "id": "m5z_LvfWtou9"
      },
      "execution_count": 33,
      "outputs": []
    }
  ]
}