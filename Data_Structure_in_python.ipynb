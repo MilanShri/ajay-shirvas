{
  "nbformat": 4,
  "nbformat_minor": 0,
  "metadata": {
    "colab": {
      "provenance": [],
      "authorship_tag": "ABX9TyPosNx9q5DmUDdfB6yUnIav",
      "include_colab_link": true
    },
    "kernelspec": {
      "name": "python3",
      "display_name": "Python 3"
    },
    "language_info": {
      "name": "python"
    }
  },
  "cells": [
    {
      "cell_type": "markdown",
      "metadata": {
        "id": "view-in-github",
        "colab_type": "text"
      },
      "source": [
        "<a href=\"https://colab.research.google.com/github/MilanShri/ajay-shirvas/blob/main/Data_Structure_in_python.ipynb\" target=\"_parent\"><img src=\"https://colab.research.google.com/assets/colab-badge.svg\" alt=\"Open In Colab\"/></a>"
      ]
    },
    {
      "cell_type": "markdown",
      "source": [
        "Quees 1)  Write a code to reverse a string"
      ],
      "metadata": {
        "id": "laSj6W2Eljhp"
      }
    },
    {
      "cell_type": "code",
      "execution_count": null,
      "metadata": {
        "colab": {
          "base_uri": "https://localhost:8080/"
        },
        "id": "M8dRW9OUlbWt",
        "outputId": "813a2adf-f9e4-46d7-a753-77dc8cf353a6"
      },
      "outputs": [
        {
          "output_type": "stream",
          "name": "stdout",
          "text": [
            "hgnis lalnahoM\n"
          ]
        }
      ],
      "source": [
        "# one way\n",
        "str = \"Mohanlal singh\"\n",
        "str1 = str[::-1]\n",
        "print(str1)\n"
      ]
    },
    {
      "cell_type": "code",
      "source": [
        "# another way\n",
        "def reverse_str(name):\n",
        "  return name[::-1]"
      ],
      "metadata": {
        "id": "CkZ3rZyElzPP"
      },
      "execution_count": null,
      "outputs": []
    },
    {
      "cell_type": "code",
      "source": [
        "reverse_str(\"shrivas singh ajay\")"
      ],
      "metadata": {
        "colab": {
          "base_uri": "https://localhost:8080/",
          "height": 36
        },
        "id": "21T4Gha0nKVv",
        "outputId": "13810f5a-6b28-4947-a06d-fdd81afa8b6f"
      },
      "execution_count": null,
      "outputs": [
        {
          "output_type": "execute_result",
          "data": {
            "text/plain": [
              "'yaja hgnis savirhs'"
            ],
            "application/vnd.google.colaboratory.intrinsic+json": {
              "type": "string"
            }
          },
          "metadata": {},
          "execution_count": 6
        }
      ]
    },
    {
      "cell_type": "markdown",
      "source": [
        "Ques 2) Write a code to count the number of vowels in a string"
      ],
      "metadata": {
        "id": "CMH3OBhEnWV9"
      }
    },
    {
      "cell_type": "code",
      "source": [
        "str = \"ajay shrivas\"\n",
        "vowels = \"aeiouAEIOU\"\n",
        "str1 = \"\"\n",
        "vowels_count = 0\n",
        "for i in str:\n",
        "  if i in vowels:\n",
        "    str1 = str1+i\n",
        "    vowels_count += 1\n",
        "\n",
        "print(\"Vowels in the string is\", vowels_count, str1 )\n",
        "\n",
        "\n"
      ],
      "metadata": {
        "colab": {
          "base_uri": "https://localhost:8080/"
        },
        "id": "QFk9uya2nQ5L",
        "outputId": "3953527d-f629-43ac-d7b9-5a69ff2df4e3"
      },
      "execution_count": null,
      "outputs": [
        {
          "output_type": "stream",
          "name": "stdout",
          "text": [
            "Vowels in the string is 4 aaia\n"
          ]
        }
      ]
    },
    {
      "cell_type": "markdown",
      "source": [
        "Ques 3) Write a code to check if a given string is a palindrome or not"
      ],
      "metadata": {
        "id": "T0O6F7j2qKUC"
      }
    },
    {
      "cell_type": "code",
      "source": [
        "def check_palindrome(srt):\n",
        "  if srt == srt[::-1]:\n",
        "    print(\"yes this is a palindrome\")\n",
        "  else:\n",
        "    print(\"No, your input is not palindrome\")"
      ],
      "metadata": {
        "id": "EENcIYT4ofZF"
      },
      "execution_count": null,
      "outputs": []
    },
    {
      "cell_type": "code",
      "source": [
        "check_palindrome(\"rotator\")"
      ],
      "metadata": {
        "colab": {
          "base_uri": "https://localhost:8080/"
        },
        "id": "NeyaJmJ1qkfn",
        "outputId": "2073c5ee-4655-4cf0-d773-8e44e8b4aa88"
      },
      "execution_count": null,
      "outputs": [
        {
          "output_type": "stream",
          "name": "stdout",
          "text": [
            "yes this is a palindrome\n"
          ]
        }
      ]
    },
    {
      "cell_type": "code",
      "source": [
        "check_palindrome(\"ajay\")"
      ],
      "metadata": {
        "colab": {
          "base_uri": "https://localhost:8080/"
        },
        "id": "N2sD_P_Kqvxk",
        "outputId": "60e3c0b9-893a-4ad1-d5c6-5075c49ad05a"
      },
      "execution_count": null,
      "outputs": [
        {
          "output_type": "stream",
          "name": "stdout",
          "text": [
            "No, your input is not palindrome\n"
          ]
        }
      ]
    },
    {
      "cell_type": "markdown",
      "source": [
        "Ques 4) Write a code to check if two given strings are anagrams of each other"
      ],
      "metadata": {
        "id": "kopXOS-2q9sI"
      }
    },
    {
      "cell_type": "code",
      "source": [
        "def arg_anagram(str1, str2):\n",
        "  str1 = str1.replace(\" \", \"\").lower()\n",
        "  str2 = str2.replace(\" \", \"\").lower()\n",
        "\n",
        "  if len(str1) != len(str2):\n",
        "    return False\n",
        "  return sorted(str1) == sorted(str2)\n",
        "\n",
        "input1 = input(\"enter your first str \")\n",
        "input2 = input(\"enter your second str \")\n",
        "\n",
        "if arg_anagram(input1, input2):\n",
        "  print(\"anagram\")\n",
        "else:\n",
        "  print(\"not anagram\")"
      ],
      "metadata": {
        "colab": {
          "base_uri": "https://localhost:8080/"
        },
        "id": "khi5ksnxrDhq",
        "outputId": "dac7bc56-3c95-4385-d179-97318ae69068"
      },
      "execution_count": null,
      "outputs": [
        {
          "output_type": "stream",
          "name": "stdout",
          "text": [
            "enter your first str ajay\n",
            "enter your second str jaya\n",
            "anagram\n"
          ]
        }
      ]
    },
    {
      "cell_type": "markdown",
      "source": [
        "Ques 5) Write a code to find all occurrences of a given substring within another string"
      ],
      "metadata": {
        "id": "eBvUfskTrFEA"
      }
    },
    {
      "cell_type": "code",
      "source": [],
      "metadata": {
        "id": "Gq_z9iH2q3cQ"
      },
      "execution_count": null,
      "outputs": []
    },
    {
      "cell_type": "code",
      "source": [],
      "metadata": {
        "id": "kc6Ng7b3v9ep"
      },
      "execution_count": null,
      "outputs": []
    },
    {
      "cell_type": "markdown",
      "source": [
        "Ques 6)Write a code to perform basic string compression using the counts of repeated characters"
      ],
      "metadata": {
        "id": "_TFl_NSmfZ_M"
      }
    },
    {
      "cell_type": "code",
      "source": [],
      "metadata": {
        "id": "yBkPCYlOfexm"
      },
      "execution_count": null,
      "outputs": []
    },
    {
      "cell_type": "markdown",
      "source": [
        "Ques 7)Write a code to determine if a string has all unique characters"
      ],
      "metadata": {
        "id": "hUGRHGxgfdm5"
      }
    },
    {
      "cell_type": "code",
      "source": [
        "set1 = {1,22,2,2,3,3,3,4,4,5,2,4,5,6,9}"
      ],
      "metadata": {
        "id": "4bKePVdpfcma"
      },
      "execution_count": null,
      "outputs": []
    },
    {
      "cell_type": "code",
      "source": [
        "print(set1)"
      ],
      "metadata": {
        "colab": {
          "base_uri": "https://localhost:8080/"
        },
        "id": "SXzhGsMRfyKJ",
        "outputId": "a63eb278-e6bd-4ea1-c6f2-3fd45cb351a4"
      },
      "execution_count": null,
      "outputs": [
        {
          "output_type": "stream",
          "name": "stdout",
          "text": [
            "{1, 2, 3, 4, 5, 6, 9, 22}\n"
          ]
        }
      ]
    },
    {
      "cell_type": "code",
      "source": [
        "type(set())"
      ],
      "metadata": {
        "colab": {
          "base_uri": "https://localhost:8080/"
        },
        "id": "_UAHcxM6f6IJ",
        "outputId": "3f347bd9-7bfe-4185-f9ab-16bc33110bca"
      },
      "execution_count": null,
      "outputs": [
        {
          "output_type": "execute_result",
          "data": {
            "text/plain": [
              "set"
            ]
          },
          "metadata": {},
          "execution_count": 9
        }
      ]
    },
    {
      "cell_type": "code",
      "source": [
        "def unique_Set(s):\n",
        "\n",
        "  seen = set()\n",
        "  for i in s:\n",
        "    if i in seen:\n",
        "      return False"
      ],
      "metadata": {
        "colab": {
          "base_uri": "https://localhost:8080/"
        },
        "id": "DB7E93qvf_D4",
        "outputId": "da9f727e-3b6b-434c-96c4-a24097225047"
      },
      "execution_count": null,
      "outputs": [
        {
          "output_type": "execute_result",
          "data": {
            "text/plain": [
              "1"
            ]
          },
          "metadata": {},
          "execution_count": 6
        }
      ]
    },
    {
      "cell_type": "markdown",
      "source": [
        "Ques 8) Write a code to convert a given string to uppercase or lowercase"
      ],
      "metadata": {
        "id": "bwmeSFkEhMjU"
      }
    },
    {
      "cell_type": "code",
      "source": [
        "#def convert_upper_lower_case(str):\n",
        " # return str.upper()\n"
      ],
      "metadata": {
        "id": "yjI5Z8LbgAku"
      },
      "execution_count": null,
      "outputs": []
    },
    {
      "cell_type": "code",
      "source": [
        "def convert_upper_lower_case(Str):\n",
        "  return Str.swapcase()\n",
        "\n",
        "converted_Str = input(\"Enter you str \")\n",
        "\n",
        "new_str = convert_upper_lower_case(converted_Str)\n",
        "print(\"converted your give str\", new_str)\n"
      ],
      "metadata": {
        "colab": {
          "base_uri": "https://localhost:8080/"
        },
        "id": "ANf6fUXPh2jn",
        "outputId": "8fbc4f74-5363-4218-d7aa-1fcbf6c77105"
      },
      "execution_count": null,
      "outputs": [
        {
          "output_type": "stream",
          "name": "stdout",
          "text": [
            "Enter you str ajay \n",
            "converted your give str AJAY \n"
          ]
        }
      ]
    },
    {
      "cell_type": "code",
      "source": [
        "def convert_upper_lower_case(Str):\n",
        "  return Str.swapcase()\n",
        "\n",
        "converted_Str = input(\"Enter you str \")\n",
        "\n",
        "new_str = convert_upper_lower_case(converted_Str)\n",
        "print(\"converted your give str\", new_str)"
      ],
      "metadata": {
        "colab": {
          "base_uri": "https://localhost:8080/"
        },
        "id": "IHpXEgYEivHV",
        "outputId": "3972a173-493c-4238-b1c0-d55093f77afc"
      },
      "execution_count": null,
      "outputs": [
        {
          "output_type": "stream",
          "name": "stdout",
          "text": [
            "Enter you str AJAY SHRIVAS\n",
            "converted your give str ajay shrivas\n"
          ]
        }
      ]
    },
    {
      "cell_type": "markdown",
      "source": [
        "Ques 9) Write a code to count the number of words in a string"
      ],
      "metadata": {
        "id": "qsWDaRMUlK69"
      }
    },
    {
      "cell_type": "code",
      "source": [
        "#a = \"ajay\"\n",
        "#print(len(a))  One way of doing this\n",
        "\n",
        "def word_count(word):\n",
        "  return len(word)\n"
      ],
      "metadata": {
        "id": "VXZUeNEPiyFK"
      },
      "execution_count": null,
      "outputs": []
    },
    {
      "cell_type": "code",
      "source": [
        "word_count(\"ajayshrivas\")"
      ],
      "metadata": {
        "colab": {
          "base_uri": "https://localhost:8080/"
        },
        "id": "16y_hT22lU1Q",
        "outputId": "b84e8cab-e417-4274-9611-991caffc4a33"
      },
      "execution_count": null,
      "outputs": [
        {
          "output_type": "execute_result",
          "data": {
            "text/plain": [
              "11"
            ]
          },
          "metadata": {},
          "execution_count": 34
        }
      ]
    },
    {
      "cell_type": "code",
      "source": [
        "# Another way is :\n",
        "\n",
        "def word_count(word):\n",
        "  new_word = input(\"Enter your word and enter to find the length of your word \")\n",
        "  print(f\"Your Word length is \", len(new_word))\n",
        "\n",
        "\n",
        "\n"
      ],
      "metadata": {
        "id": "xhjKrAzUl1WR"
      },
      "execution_count": null,
      "outputs": []
    },
    {
      "cell_type": "code",
      "source": [
        "word_count(\"ajay\")"
      ],
      "metadata": {
        "colab": {
          "base_uri": "https://localhost:8080/"
        },
        "id": "aC6JG2DYmj0j",
        "outputId": "a069d07f-a7ce-450d-f865-32c0d01e57d8"
      },
      "execution_count": null,
      "outputs": [
        {
          "output_type": "stream",
          "name": "stdout",
          "text": [
            "Enter your word and enter to find the length of your word ajay shrivas\n",
            "Your Word length is  12\n"
          ]
        }
      ]
    },
    {
      "cell_type": "markdown",
      "source": [
        "Ques 10)  Write a code to concatenate two strings without using the + operator"
      ],
      "metadata": {
        "id": "ov4mnftKnwdd"
      }
    },
    {
      "cell_type": "code",
      "source": [
        "str1 = \"ajay\"\n",
        "str2 = \"shrivas\"\n",
        "\n",
        "print(f\"{str1} {str2}\")"
      ],
      "metadata": {
        "colab": {
          "base_uri": "https://localhost:8080/"
        },
        "id": "OzRPoUFCmozO",
        "outputId": "e534d343-d548-4f25-b1d4-ee39c3df15f3"
      },
      "execution_count": null,
      "outputs": [
        {
          "output_type": "stream",
          "name": "stdout",
          "text": [
            "ajay shrivas\n"
          ]
        }
      ]
    },
    {
      "cell_type": "code",
      "source": [
        "a = [\"a\",\"python\",\"is\",\"popular\"]   # one method by using join keyword\n",
        "res = \" \".join(a)\n",
        "print(res)"
      ],
      "metadata": {
        "colab": {
          "base_uri": "https://localhost:8080/"
        },
        "id": "R43el2XIovW9",
        "outputId": "2e859f1e-f243-403b-deba-7dbe9b5ae65a"
      },
      "execution_count": null,
      "outputs": [
        {
          "output_type": "stream",
          "name": "stdout",
          "text": [
            "a python is popular\n"
          ]
        }
      ]
    },
    {
      "cell_type": "code",
      "source": [
        "def join_str(str1, str2):\n",
        "  return ' '.join([str1, str2])\n",
        "\n",
        "\n",
        "string1 = input(\"enter your first string \")\n",
        "string2 = input(\"enter your second string \")\n",
        "\n",
        "concatenate_string = join_str(string1, string2)\n",
        "print(concatenate_string)\n"
      ],
      "metadata": {
        "colab": {
          "base_uri": "https://localhost:8080/"
        },
        "id": "ymGXu8MUp3NF",
        "outputId": "6525cb35-05aa-475c-f973-1b51e2722f55"
      },
      "execution_count": null,
      "outputs": [
        {
          "output_type": "stream",
          "name": "stdout",
          "text": [
            "enter your first string ajay\n",
            "enter your second string gupta\n",
            "ajay gupta\n"
          ]
        }
      ]
    },
    {
      "cell_type": "code",
      "source": [
        "# dunder method to add two string\n",
        "\n",
        "a = \"swami\"\n",
        "b = \"mukudanand\"\n",
        "\n",
        "a.__add__( b)"
      ],
      "metadata": {
        "id": "Yf_2FzrOrSjN",
        "colab": {
          "base_uri": "https://localhost:8080/",
          "height": 36
        },
        "outputId": "83bf43a3-9138-422a-bf86-2ac0fa9911f2"
      },
      "execution_count": null,
      "outputs": [
        {
          "output_type": "execute_result",
          "data": {
            "text/plain": [
              "'swamimukudanand'"
            ],
            "application/vnd.google.colaboratory.intrinsic+json": {
              "type": "string"
            }
          },
          "metadata": {},
          "execution_count": 2
        }
      ]
    },
    {
      "cell_type": "markdown",
      "source": [
        "Ques 11)Write a code to remove all occurrences of a specific element from a list"
      ],
      "metadata": {
        "id": "IceqQOQ3N7lT"
      }
    },
    {
      "cell_type": "code",
      "source": [
        "def remove_element(lst, element):\n",
        "    return [item for item in lst if item != element]\n",
        "\n",
        "my_list = [1, 2, 3, 4, 2, 5, 2]\n",
        "element_to_remove = 2\n",
        "updated_list = remove_element(my_list, element_to_remove)\n",
        "print(updated_list)\n"
      ],
      "metadata": {
        "id": "DvKDw-Pg2smK",
        "colab": {
          "base_uri": "https://localhost:8080/"
        },
        "outputId": "a597dfc7-a4c2-4aa6-bf0b-c6fbf170602d"
      },
      "execution_count": 2,
      "outputs": [
        {
          "output_type": "stream",
          "name": "stdout",
          "text": [
            "[1, 3, 4, 5]\n"
          ]
        }
      ]
    },
    {
      "cell_type": "markdown",
      "source": [
        "Ques 12)Implement a code to find the second largest number in a given list of integers"
      ],
      "metadata": {
        "id": "uMtphZg9Ohcy"
      }
    },
    {
      "cell_type": "code",
      "source": [
        "def second_largest(lst):\n",
        "    # Sort the list and return the second last element\n",
        "    lst = list(set(lst))  # Remove duplicates\n",
        "    lst.sort()\n",
        "    return lst[-2] if len(lst) > 1 else None\n",
        "\n",
        "my_list = [12, 34, 56, 34, 23, 56, 78, 12]\n",
        "result = second_largest(my_list)\n",
        "\n",
        "print(\"Second largest number:\", result)"
      ],
      "metadata": {
        "colab": {
          "base_uri": "https://localhost:8080/"
        },
        "id": "xPXtu3o9OVE3",
        "outputId": "310806bc-30bf-4bc9-a3b1-ad2f9bdd08e5"
      },
      "execution_count": 3,
      "outputs": [
        {
          "output_type": "stream",
          "name": "stdout",
          "text": [
            "Second largest number: 56\n"
          ]
        }
      ]
    },
    {
      "cell_type": "markdown",
      "source": [
        "Ques 13) Write a code to reverse a list in-place without using any built-in reverse functions"
      ],
      "metadata": {
        "id": "XHMM-iIIO_Xm"
      }
    },
    {
      "cell_type": "code",
      "source": [
        "\n"
      ],
      "metadata": {
        "id": "v0P1NTC0O9sN"
      },
      "execution_count": 3,
      "outputs": []
    },
    {
      "cell_type": "markdown",
      "source": [
        "Ques 16) Create a code to check if a given list is sorted (either in ascending or descending order) or not"
      ],
      "metadata": {
        "id": "lfknsOO4PYKi"
      }
    },
    {
      "cell_type": "code",
      "source": [
        "def is_sorted(lst):\n",
        "    # Check if the list is sorted in ascending order\n",
        "    if lst == sorted(lst):\n",
        "        return \"Ascending\"\n",
        "    # Check if the list is sorted in descending order\n",
        "    elif lst == sorted(lst, reverse=True):\n",
        "        return \"Descending\"\n",
        "    # If neither, the list is not sorted\n",
        "    else:\n",
        "        return \"Not sorted\"\n",
        "\n",
        "my_list = [1, 2, 3, 4, 5]\n",
        "result = is_sorted(my_list)\n",
        "\n",
        "print(\"The list is:\", result)\n"
      ],
      "metadata": {
        "colab": {
          "base_uri": "https://localhost:8080/"
        },
        "id": "eJhqVrcHPXFM",
        "outputId": "c21de197-1348-41f7-dd58-1f9a0ef45779"
      },
      "execution_count": 4,
      "outputs": [
        {
          "output_type": "stream",
          "name": "stdout",
          "text": [
            "The list is: Ascending\n"
          ]
        }
      ]
    },
    {
      "cell_type": "markdown",
      "source": [
        "Ques 19) Create a code to find the union of two lists without duplicates"
      ],
      "metadata": {
        "id": "jY--9iSpPtKr"
      }
    },
    {
      "cell_type": "code",
      "source": [
        "def union_of_lists(list1, list2):\n",
        "  return list(set(list1 + list2))\n",
        "\n",
        "list1 = [1, 2, 3, 4]\n",
        "list2 = [3, 4, 5, 6]\n",
        "result = union_of_lists(list1, list2)\n",
        "\n",
        "print(\"Union of the lists:\", result)"
      ],
      "metadata": {
        "colab": {
          "base_uri": "https://localhost:8080/"
        },
        "id": "jXRcz8LnPlTN",
        "outputId": "e3490a26-dbb1-46fe-cfb5-7021768f6275"
      },
      "execution_count": 6,
      "outputs": [
        {
          "output_type": "stream",
          "name": "stdout",
          "text": [
            "Union of the lists: [1, 2, 3, 4, 5, 6]\n"
          ]
        }
      ]
    },
    {
      "cell_type": "code",
      "source": [],
      "metadata": {
        "id": "LzdfIrP9P8T7"
      },
      "execution_count": null,
      "outputs": []
    }
  ]
}