{
  "nbformat": 4,
  "nbformat_minor": 0,
  "metadata": {
    "colab": {
      "provenance": [],
      "authorship_tag": "ABX9TyM1k9U8joVT1+tu6YCJ2Uzw",
      "include_colab_link": true
    },
    "kernelspec": {
      "name": "python3",
      "display_name": "Python 3"
    },
    "language_info": {
      "name": "python"
    }
  },
  "cells": [
    {
      "cell_type": "markdown",
      "metadata": {
        "id": "view-in-github",
        "colab_type": "text"
      },
      "source": [
        "<a href=\"https://colab.research.google.com/github/MilanShri/ajay-shirvas/blob/main/Functions_assignment1_solution.ipynb\" target=\"_parent\"><img src=\"https://colab.research.google.com/assets/colab-badge.svg\" alt=\"Open In Colab\"/></a>"
      ]
    },
    {
      "cell_type": "markdown",
      "source": [
        "Ques 1)  What is the difference between a function and a method in Python?\n",
        "\n",
        "answer) **Functions** are independent block of code that can be called from anywhere, while method are tied to object/ classes and need an obj/class to be invoked.\n",
        "\n",
        "A function is a block of code that perform a specific task and can be called multiple times, where we want in a program.\n",
        "\n",
        "syn-  def function_name(argu):\n",
        "        code\n",
        "\n",
        "**methode** is a function that is associated with any class and it used to perform specific task on that data stored within the class.\n",
        "\n",
        "method ex - append() , sorted(), remove(), updtate() etc"
      ],
      "metadata": {
        "id": "CH1qRW0Pg1r0"
      }
    },
    {
      "cell_type": "code",
      "source": [
        "def sum(a,b):\n",
        "  return a+b"
      ],
      "metadata": {
        "id": "XlPQ0SmChtF3"
      },
      "execution_count": null,
      "outputs": []
    },
    {
      "cell_type": "code",
      "source": [
        "sum(5,46)"
      ],
      "metadata": {
        "colab": {
          "base_uri": "https://localhost:8080/"
        },
        "id": "uVzpOX_-hzGw",
        "outputId": "7eebe801-afd4-4ae4-d1ef-52186c3eea14"
      },
      "execution_count": null,
      "outputs": [
        {
          "output_type": "execute_result",
          "data": {
            "text/plain": [
              "51"
            ]
          },
          "metadata": {},
          "execution_count": 2
        }
      ]
    },
    {
      "cell_type": "markdown",
      "source": [
        "Ques 2) Explain the concept of function arguments and parameters in Python.\n",
        "\n",
        "answer) A **Parameter** is a variable defines within paranthesis during function define or written.\n",
        "def sum_of_num(a,b) # a and b are the parameters\n",
        "\n",
        "A **argument** is a value passes when we called a function.\n",
        "\n",
        "sum(2,56) # 2 and 56 are the arguments of a function."
      ],
      "metadata": {
        "id": "dsMT6M7piiJX"
      }
    },
    {
      "cell_type": "markdown",
      "source": [
        "Ques 3)  What are the different ways to define and call a function in Python?\n",
        "\n",
        "we can define a function with \"**def**\" keyword, follow with *function_name* with paranthesis and at the last **\":\"**\n",
        "\n",
        "def sum(a,b):\n",
        "\n",
        "lambda is also a function, but it is anonymous type, means name is not defines\n",
        "\n",
        "num = lambda x:x*2\n",
        "num2"
      ],
      "metadata": {
        "id": "MWrmNo5vjVr-"
      }
    },
    {
      "cell_type": "code",
      "source": [
        "num = lambda x : x*2\n",
        "num(20)"
      ],
      "metadata": {
        "colab": {
          "base_uri": "https://localhost:8080/"
        },
        "id": "Ywv5VUTXh2Ld",
        "outputId": "bd3d4f07-c7cb-409c-b5fa-f640799cbc0d"
      },
      "execution_count": null,
      "outputs": [
        {
          "output_type": "execute_result",
          "data": {
            "text/plain": [
              "40"
            ]
          },
          "metadata": {},
          "execution_count": 3
        }
      ]
    },
    {
      "cell_type": "code",
      "source": [
        "def greet(name):\n",
        "  return f\"Hello! {name}, We are happy to deliver our valuable services to you\""
      ],
      "metadata": {
        "id": "nXz_zUAikWlv"
      },
      "execution_count": null,
      "outputs": []
    },
    {
      "cell_type": "code",
      "source": [
        "greet(\"Ajay\")"
      ],
      "metadata": {
        "colab": {
          "base_uri": "https://localhost:8080/",
          "height": 36
        },
        "id": "m7GcaJBLlei2",
        "outputId": "1c9196b1-5b4c-4a49-c8f2-701a49493a6d"
      },
      "execution_count": null,
      "outputs": [
        {
          "output_type": "execute_result",
          "data": {
            "text/plain": [
              "'Hello! Ajay, We are happy to deliver our valuable services to you'"
            ],
            "application/vnd.google.colaboratory.intrinsic+json": {
              "type": "string"
            }
          },
          "metadata": {},
          "execution_count": 11
        }
      ]
    },
    {
      "cell_type": "markdown",
      "source": [
        "Ques 4) What is the purpose of the `return` statement in a Python function?\n",
        "\n",
        "answer) 1) To return the output from the function.\n",
        "2)The return statement is a keywords that stop execution of a current function and sent value out to where the function called."
      ],
      "metadata": {
        "id": "oRdV-rB4mg3r"
      }
    },
    {
      "cell_type": "code",
      "source": [
        "# example\n",
        "def greet(name):\n",
        "  return f\"Hello! {name}, We are happy to deliver our valuable services to you\"\n",
        "\n",
        "greet(\"Priyanka Mehre\")"
      ],
      "metadata": {
        "colab": {
          "base_uri": "https://localhost:8080/",
          "height": 36
        },
        "id": "HcObCH2qmOZJ",
        "outputId": "0f8d1da6-62e9-456c-cab6-11ef3a83c9cc"
      },
      "execution_count": null,
      "outputs": [
        {
          "output_type": "execute_result",
          "data": {
            "text/plain": [
              "'Hello! Priyanka Mehre, We are happy to deliver our valuable services to you'"
            ],
            "application/vnd.google.colaboratory.intrinsic+json": {
              "type": "string"
            }
          },
          "metadata": {},
          "execution_count": 13
        }
      ]
    },
    {
      "cell_type": "markdown",
      "source": [
        "Ques 5) What are iterators in Python and how do they differ from iterables?\n",
        "\n",
        "answer) Iterable is an object that can iterate over. it generate an iterator when pass to iter () method.\n",
        "an iterator is also an obj. used to iterate over an iterable using next() method."
      ],
      "metadata": {
        "id": "MNhQpME-oOeH"
      }
    },
    {
      "cell_type": "code",
      "source": [
        "list1 = iter([1,2,3,4,5,6,7,8,9])\n",
        "list1"
      ],
      "metadata": {
        "colab": {
          "base_uri": "https://localhost:8080/"
        },
        "id": "YUU8pjLVnSrL",
        "outputId": "12143651-cee0-43af-e4ee-dd8f987b6d69"
      },
      "execution_count": null,
      "outputs": [
        {
          "output_type": "execute_result",
          "data": {
            "text/plain": [
              "<list_iterator at 0x7d7a20605090>"
            ]
          },
          "metadata": {},
          "execution_count": 16
        }
      ]
    },
    {
      "cell_type": "code",
      "source": [
        "next(list1)"
      ],
      "metadata": {
        "colab": {
          "base_uri": "https://localhost:8080/"
        },
        "id": "uMVy9GxSoJ7K",
        "outputId": "8020df36-afa1-49a7-aecf-ae380f78599f"
      },
      "execution_count": null,
      "outputs": [
        {
          "output_type": "execute_result",
          "data": {
            "text/plain": [
              "1"
            ]
          },
          "metadata": {},
          "execution_count": 19
        }
      ]
    },
    {
      "cell_type": "code",
      "source": [
        "next(list1)"
      ],
      "metadata": {
        "colab": {
          "base_uri": "https://localhost:8080/"
        },
        "id": "Iqej8axEogmc",
        "outputId": "c7bece34-85af-41e2-a9e4-101ba0791014"
      },
      "execution_count": null,
      "outputs": [
        {
          "output_type": "execute_result",
          "data": {
            "text/plain": [
              "2"
            ]
          },
          "metadata": {},
          "execution_count": 20
        }
      ]
    },
    {
      "cell_type": "code",
      "source": [
        "next(list1)"
      ],
      "metadata": {
        "colab": {
          "base_uri": "https://localhost:8080/"
        },
        "id": "xSQ95_2go4ca",
        "outputId": "21f7fb52-6c92-4885-a59b-bce30e326410"
      },
      "execution_count": null,
      "outputs": [
        {
          "output_type": "execute_result",
          "data": {
            "text/plain": [
              "3"
            ]
          },
          "metadata": {},
          "execution_count": 21
        }
      ]
    },
    {
      "cell_type": "markdown",
      "source": [
        "Ques 6) . Explain the concept of generators in Python and how they are defined.\n",
        "\n",
        "answer) A **generator** in python is a function that return an iterator using the yield keywords. if a body of a def function contain yield keyword, it automatically become generator.\n",
        "def function(): yield statement.\n",
        "\n",
        "Give value one by one when we called it.\n",
        "generator is used for efficient memory management becoz it gives value one by one."
      ],
      "metadata": {
        "id": "q8oQHYHyo_7d"
      }
    },
    {
      "cell_type": "code",
      "source": [
        "def sq_no_gen(n):\n",
        "  for i in range(n):\n",
        "    yield i**2"
      ],
      "metadata": {
        "id": "_au8-Oljo6QS"
      },
      "execution_count": null,
      "outputs": []
    },
    {
      "cell_type": "code",
      "source": [
        "gen = sq_no_gen(10)\n",
        "gen"
      ],
      "metadata": {
        "colab": {
          "base_uri": "https://localhost:8080/"
        },
        "id": "C8ymaencqje7",
        "outputId": "b5499f8d-6e93-4070-fa49-138356cd3462"
      },
      "execution_count": null,
      "outputs": [
        {
          "output_type": "execute_result",
          "data": {
            "text/plain": [
              "<generator object sq_no_gen at 0x7d79ef11c580>"
            ]
          },
          "metadata": {},
          "execution_count": 25
        }
      ]
    },
    {
      "cell_type": "code",
      "source": [
        "next(gen)"
      ],
      "metadata": {
        "colab": {
          "base_uri": "https://localhost:8080/"
        },
        "id": "BEKXX6SmqsU3",
        "outputId": "632958ea-e905-4c02-b21a-93ef82689083"
      },
      "execution_count": null,
      "outputs": [
        {
          "output_type": "execute_result",
          "data": {
            "text/plain": [
              "0"
            ]
          },
          "metadata": {},
          "execution_count": 26
        }
      ]
    },
    {
      "cell_type": "code",
      "source": [
        "next(gen)"
      ],
      "metadata": {
        "colab": {
          "base_uri": "https://localhost:8080/"
        },
        "id": "yzQeS_V4qwg5",
        "outputId": "f572960a-b2ed-4d3a-dd75-4d91ee778dec"
      },
      "execution_count": null,
      "outputs": [
        {
          "output_type": "execute_result",
          "data": {
            "text/plain": [
              "1"
            ]
          },
          "metadata": {},
          "execution_count": 27
        }
      ]
    },
    {
      "cell_type": "code",
      "source": [
        "next(gen)"
      ],
      "metadata": {
        "colab": {
          "base_uri": "https://localhost:8080/"
        },
        "id": "hHFMCacNqyWt",
        "outputId": "66931bc6-df62-498c-e598-3dff78f64ad9"
      },
      "execution_count": null,
      "outputs": [
        {
          "output_type": "execute_result",
          "data": {
            "text/plain": [
              "4"
            ]
          },
          "metadata": {},
          "execution_count": 28
        }
      ]
    },
    {
      "cell_type": "code",
      "source": [
        "next(gen)"
      ],
      "metadata": {
        "colab": {
          "base_uri": "https://localhost:8080/"
        },
        "id": "b3jwfMiAqzsi",
        "outputId": "5621970a-449b-4a3d-b283-2da500587a2b"
      },
      "execution_count": null,
      "outputs": [
        {
          "output_type": "execute_result",
          "data": {
            "text/plain": [
              "9"
            ]
          },
          "metadata": {},
          "execution_count": 29
        }
      ]
    },
    {
      "cell_type": "code",
      "source": [
        "next(gen)"
      ],
      "metadata": {
        "colab": {
          "base_uri": "https://localhost:8080/"
        },
        "id": "bD6yMh16q1II",
        "outputId": "9d28e2fd-c100-4c09-9127-40995f8599ad"
      },
      "execution_count": null,
      "outputs": [
        {
          "output_type": "execute_result",
          "data": {
            "text/plain": [
              "16"
            ]
          },
          "metadata": {},
          "execution_count": 30
        }
      ]
    },
    {
      "cell_type": "markdown",
      "source": [
        "Ques 7) What are the advantages of using generators over regular functions?\n",
        "\n",
        "- memory efficient\n",
        "- improve performance\n",
        "- Readability\n",
        "- lazy load, means data is not loaded until it is needed.\n"
      ],
      "metadata": {
        "id": "FJF4EIHKuJgE"
      }
    },
    {
      "cell_type": "markdown",
      "source": [
        "Ques 8)  What is a lambda function in Python and when is it typically used?\n",
        "\n",
        "answer)\n",
        "- lambda is anonymouns function.\n",
        "- it is also known as shord hand function\n",
        "- lambda function can use for short code or inside a function.\n",
        "- lambda take any no. of argument but only one expression\n",
        "- syntax.\n",
        "\n",
        "lambda args : expression\n"
      ],
      "metadata": {
        "id": "uJZwZNqnun_r"
      }
    },
    {
      "cell_type": "code",
      "source": [
        "add_no = lambda x,y : x+y\n",
        "add_no(10,20)"
      ],
      "metadata": {
        "colab": {
          "base_uri": "https://localhost:8080/"
        },
        "id": "8hYVNc8gq35u",
        "outputId": "f7c69be4-ad1c-49ed-aa12-1764380be865"
      },
      "execution_count": null,
      "outputs": [
        {
          "output_type": "execute_result",
          "data": {
            "text/plain": [
              "30"
            ]
          },
          "metadata": {},
          "execution_count": 31
        }
      ]
    },
    {
      "cell_type": "code",
      "source": [
        "sq_no = lambda x : x**2\n",
        "sq_no(6)"
      ],
      "metadata": {
        "colab": {
          "base_uri": "https://localhost:8080/"
        },
        "id": "HdLzjR6SwFpx",
        "outputId": "8c19b50a-083f-4d6f-bf32-6371e611c85d"
      },
      "execution_count": null,
      "outputs": [
        {
          "output_type": "execute_result",
          "data": {
            "text/plain": [
              "36"
            ]
          },
          "metadata": {},
          "execution_count": 32
        }
      ]
    },
    {
      "cell_type": "markdown",
      "source": [
        "Ques 9) Explain the purpose and usage of the `map()` function in Python.\n",
        "\n",
        "answer) map execute a specific function for each of items of an iterable.\n",
        "**syntax**-\n",
        "map(function, iterable)"
      ],
      "metadata": {
        "id": "MER2OgbEwN4U"
      }
    },
    {
      "cell_type": "code",
      "source": [
        "l = [10,20,30,40,50,60,70]\n",
        "def sq(n):\n",
        "  return n**2\n",
        "\n",
        "list(map(sq, l))"
      ],
      "metadata": {
        "colab": {
          "base_uri": "https://localhost:8080/"
        },
        "id": "pfopjKaJwLv3",
        "outputId": "71019913-5089-4737-dd41-d056ac2859c5"
      },
      "execution_count": null,
      "outputs": [
        {
          "output_type": "execute_result",
          "data": {
            "text/plain": [
              "[100, 400, 900, 1600, 2500, 3600, 4900]"
            ]
          },
          "metadata": {},
          "execution_count": 33
        }
      ]
    },
    {
      "cell_type": "markdown",
      "source": [
        "Ques 10) What is the difference between `map()`, `reduce()`, and `filter()` functions in Python?\n",
        "\n",
        "answer) map, reduce and filter are the build-in function. can be used for functional programming.\n",
        "\n",
        "reduce() function we need to import it.\n",
        "\n",
        "**from functools import reduce**"
      ],
      "metadata": {
        "id": "Z_cDHsZUw4q7"
      }
    },
    {
      "cell_type": "code",
      "source": [
        "from functools import reduce\n",
        "l = [1,2,3,4,5,6,7,8,9,10]\n",
        "reduce(lambda x,y:x+y, l)\n",
        "\n"
      ],
      "metadata": {
        "colab": {
          "base_uri": "https://localhost:8080/"
        },
        "id": "HrybHjyzw2p7",
        "outputId": "b6c843d7-cbeb-4ad6-8aeb-18f197177dc4"
      },
      "execution_count": null,
      "outputs": [
        {
          "output_type": "execute_result",
          "data": {
            "text/plain": [
              "55"
            ]
          },
          "metadata": {},
          "execution_count": 39
        }
      ]
    },
    {
      "cell_type": "markdown",
      "source": [
        "Ques 11)  Using pen & Paper write the internal mechanism for sum operation using  reduce function on this given\n",
        "list:[47,11,42,13];"
      ],
      "metadata": {
        "id": "ecm7EZ6Gyl98"
      }
    },
    {
      "cell_type": "code",
      "source": [
        "from functools import reduce\n",
        "\n",
        "l = [47,11,42,13]\n",
        "reduce(lambda x,y : x+y, l)\n"
      ],
      "metadata": {
        "colab": {
          "base_uri": "https://localhost:8080/"
        },
        "id": "N9LEU_P2xz7G",
        "outputId": "fc61c067-006e-41ab-cc1d-5899cb76972a"
      },
      "execution_count": null,
      "outputs": [
        {
          "output_type": "execute_result",
          "data": {
            "text/plain": [
              "113"
            ]
          },
          "metadata": {},
          "execution_count": 40
        }
      ]
    },
    {
      "cell_type": "markdown",
      "source": [
        "Practical Questions:\n",
        "\n",
        " Ques 1)Write a Python function that takes a list of numbers as input an returns the sum of all even numbers in\n",
        "the list"
      ],
      "metadata": {
        "id": "ueCUsYoXUv1f"
      }
    },
    {
      "cell_type": "code",
      "source": [
        "def sum_even(nums):\n",
        "  even_num = 0\n",
        "  for i in nums:\n",
        "    if i % 2 == 0:\n",
        "      even_num = even_num + i\n",
        "  return even_num"
      ],
      "metadata": {
        "id": "iuFKcQW_x-yX"
      },
      "execution_count": 1,
      "outputs": []
    },
    {
      "cell_type": "code",
      "source": [
        "sum_even([1,2,3,4,5,6,7,8,9])"
      ],
      "metadata": {
        "colab": {
          "base_uri": "https://localhost:8080/"
        },
        "id": "0v_K8b_cU-uO",
        "outputId": "4c0aec35-b321-41c7-fc78-714c784749cf"
      },
      "execution_count": 2,
      "outputs": [
        {
          "output_type": "execute_result",
          "data": {
            "text/plain": [
              "20"
            ]
          },
          "metadata": {},
          "execution_count": 2
        }
      ]
    },
    {
      "cell_type": "markdown",
      "source": [
        "Ques 2)  Create a Python function that accepts a string and returns the reverse of that string."
      ],
      "metadata": {
        "id": "Mk5oIeSqVD8p"
      }
    },
    {
      "cell_type": "code",
      "source": [
        "def reverse_str(str):\n",
        "  result = str[::-1]\n",
        "  return result"
      ],
      "metadata": {
        "id": "vT38BCsSVB-I"
      },
      "execution_count": 3,
      "outputs": []
    },
    {
      "cell_type": "code",
      "source": [
        "reverse_str(\"santanu\")"
      ],
      "metadata": {
        "colab": {
          "base_uri": "https://localhost:8080/",
          "height": 36
        },
        "id": "QPdgHcrLVQPs",
        "outputId": "739d9a72-172a-43e2-8fe8-3470f0ce5a26"
      },
      "execution_count": 4,
      "outputs": [
        {
          "output_type": "execute_result",
          "data": {
            "text/plain": [
              "'unatnas'"
            ],
            "application/vnd.google.colaboratory.intrinsic+json": {
              "type": "string"
            }
          },
          "metadata": {},
          "execution_count": 4
        }
      ]
    },
    {
      "cell_type": "markdown",
      "source": [
        "Ques 3) . Implement a Python function that takes a list of integers and returns a new list containing the squares of\n",
        "each number."
      ],
      "metadata": {
        "id": "U8_8in1JVV7S"
      }
    },
    {
      "cell_type": "code",
      "source": [
        "def sq_num(nums):\n",
        "  new_sq = []\n",
        "  for i in nums:\n",
        "    new_sq.append(i**2)\n",
        "  return new_sq"
      ],
      "metadata": {
        "id": "0bMs_W3AVSdv"
      },
      "execution_count": 5,
      "outputs": []
    },
    {
      "cell_type": "code",
      "source": [
        "sq_num([2,3,4,5])"
      ],
      "metadata": {
        "colab": {
          "base_uri": "https://localhost:8080/"
        },
        "id": "pUE3Yh08Vech",
        "outputId": "5ca7b3d2-e142-443b-d76f-c829f4682210"
      },
      "execution_count": 6,
      "outputs": [
        {
          "output_type": "execute_result",
          "data": {
            "text/plain": [
              "[4, 9, 16, 25]"
            ]
          },
          "metadata": {},
          "execution_count": 6
        }
      ]
    },
    {
      "cell_type": "markdown",
      "source": [
        "Ques 4) 4 Write a Python function that checks if a given number is prime or not from 1 to 200."
      ],
      "metadata": {
        "id": "STAlktJMVnTj"
      }
    },
    {
      "cell_type": "code",
      "source": [
        "def prime_no(n):\n",
        "  if n <= 1:\n",
        "    return False\n",
        "  for i in range(2, 200):\n",
        "    if 200%i == 0:\n",
        "      return False\n",
        "  return True\n",
        "\n",
        "number = int(input(\"Enter Your No.\"))\n",
        "if prime_no(number):\n",
        "  print(f\"{number} is a prime no.\")\n",
        "else:\n",
        "  print(f\"{number} is not a prime no.\")"
      ],
      "metadata": {
        "colab": {
          "base_uri": "https://localhost:8080/"
        },
        "id": "ZwjRiVLAVgcX",
        "outputId": "916780a7-9a5c-4cad-d903-afe14f62ccf8"
      },
      "execution_count": 7,
      "outputs": [
        {
          "output_type": "stream",
          "name": "stdout",
          "text": [
            "Enter Your No.23\n",
            "23 is not a prime no.\n"
          ]
        }
      ]
    },
    {
      "cell_type": "markdown",
      "source": [
        "Ques 5)  Create an iterator class in Python that generates the Fibonacci sequence up to a specified number of\n",
        "terms."
      ],
      "metadata": {
        "id": "4Z1SWHDGV9dT"
      }
    },
    {
      "cell_type": "code",
      "source": [
        "fib = lambda n : n if n<=1 else fib(n-1) + fib(n-2)"
      ],
      "metadata": {
        "id": "iRYJH4o6V35N"
      },
      "execution_count": 8,
      "outputs": []
    },
    {
      "cell_type": "code",
      "source": [
        "fib(10)"
      ],
      "metadata": {
        "colab": {
          "base_uri": "https://localhost:8080/"
        },
        "id": "qUtjREGCWTQx",
        "outputId": "63cd9778-1596-40b3-bdaf-04e51ecec16e"
      },
      "execution_count": 11,
      "outputs": [
        {
          "output_type": "execute_result",
          "data": {
            "text/plain": [
              "55"
            ]
          },
          "metadata": {},
          "execution_count": 11
        }
      ]
    },
    {
      "cell_type": "markdown",
      "source": [
        "Ques 6) Write a generator function in Python that yields the powers of 2 up to a given exponent."
      ],
      "metadata": {
        "id": "wVZx7OYoe5SN"
      }
    },
    {
      "cell_type": "code",
      "source": [
        "def power_of_2(exp):\n",
        "  for i in range(exp + 1):\n",
        "    yield 2**i\n",
        "\n",
        "gen = power_of_2(5)\n",
        "\n",
        "for power in gen:\n",
        "  print(power)"
      ],
      "metadata": {
        "colab": {
          "base_uri": "https://localhost:8080/"
        },
        "id": "SWLftgh3e4en",
        "outputId": "767b5e02-6f46-42e3-b04a-c78bb9d80d55"
      },
      "execution_count": 25,
      "outputs": [
        {
          "output_type": "stream",
          "name": "stdout",
          "text": [
            "1\n",
            "2\n",
            "4\n",
            "8\n",
            "16\n",
            "32\n"
          ]
        }
      ]
    },
    {
      "cell_type": "markdown",
      "source": [
        "Ques 7)  Implement a generator function that reads a file line by line and yields each line as a string."
      ],
      "metadata": {
        "id": "oTn3e8VYfAP7"
      }
    },
    {
      "cell_type": "code",
      "source": [],
      "metadata": {
        "id": "KfnReo2cfLT_"
      },
      "execution_count": null,
      "outputs": []
    },
    {
      "cell_type": "markdown",
      "source": [
        "Ques 8)  Use a lambda function in Python to sort a list of tuples based on the second element of each tuple."
      ],
      "metadata": {
        "id": "UQi2thBvY55a"
      }
    },
    {
      "cell_type": "code",
      "source": [
        "tuple = [(3,1),(2,2),(4,3),(3,5),(6,7),(4,4),(16,6)]\n",
        "\n",
        "sorted_tup = sorted(tuple, key = lambda x:x[1])\n",
        "print(sorted_tup)"
      ],
      "metadata": {
        "colab": {
          "base_uri": "https://localhost:8080/"
        },
        "id": "gjTmTHzcWnng",
        "outputId": "9ca03d8f-fb3d-4c11-db82-b53c0e3e48f9"
      },
      "execution_count": 16,
      "outputs": [
        {
          "output_type": "stream",
          "name": "stdout",
          "text": [
            "[(3, 1), (2, 2), (4, 3), (4, 4), (3, 5), (16, 6), (6, 7)]\n"
          ]
        }
      ]
    },
    {
      "cell_type": "markdown",
      "source": [
        "Ques 9) Write a Python program that uses `map()` to convert a list of temperatures from Celsius to Fahrenheit."
      ],
      "metadata": {
        "id": "4mMZlxNsbKcA"
      }
    },
    {
      "cell_type": "code",
      "source": [
        "cel_temp = [10,20,30,40,50,60]\n",
        "\n",
        "def cel_tem_to_fahren(cell):\n",
        "  return (cell*9/5) + 32\n",
        "\n",
        "\n",
        "\n",
        "fahren_temp = list(map(cel_tem_to_fahren , cel_temp))\n",
        "print(fahren_temp)"
      ],
      "metadata": {
        "colab": {
          "base_uri": "https://localhost:8080/"
        },
        "id": "0L_uWTNnZdG9",
        "outputId": "1ff4af6e-367b-457e-ca18-3de73ea9921b"
      },
      "execution_count": 20,
      "outputs": [
        {
          "output_type": "stream",
          "name": "stdout",
          "text": [
            "[50.0, 68.0, 86.0, 104.0, 122.0, 140.0]\n"
          ]
        }
      ]
    },
    {
      "cell_type": "markdown",
      "source": [
        "Ques 10)  Create a Python program that uses `filter()` to remove all the vowels from a given string."
      ],
      "metadata": {
        "id": "_hACfKvsc8XZ"
      }
    },
    {
      "cell_type": "code",
      "source": [
        "def remove_vowels(s):\n",
        "  vowels = \"aeiouAEIOU\"\n",
        "\n",
        "  result = ''.join(filter(lambda x : x not in vowels, s))\n",
        "  return result"
      ],
      "metadata": {
        "id": "UPvYYaQzb6kF"
      },
      "execution_count": 21,
      "outputs": []
    },
    {
      "cell_type": "code",
      "source": [
        "remove_vowels(\"ajay shrivas\")"
      ],
      "metadata": {
        "colab": {
          "base_uri": "https://localhost:8080/",
          "height": 36
        },
        "id": "WyUaKZJ7eZUJ",
        "outputId": "635e2327-d2d8-456d-bd43-99f5708b0eed"
      },
      "execution_count": 22,
      "outputs": [
        {
          "output_type": "execute_result",
          "data": {
            "text/plain": [
              "'jy shrvs'"
            ],
            "application/vnd.google.colaboratory.intrinsic+json": {
              "type": "string"
            }
          },
          "metadata": {},
          "execution_count": 22
        }
      ]
    },
    {
      "cell_type": "markdown",
      "source": [
        "Ques 11)  Imagine an accounting routine used in a book shop. It works on a list with sublists, which look like this:\n",
        "\n"
      ],
      "metadata": {
        "id": "eqKy5dz0ep_z"
      }
    },
    {
      "cell_type": "code",
      "source": [],
      "metadata": {
        "id": "tzGBEwDMedL5"
      },
      "execution_count": null,
      "outputs": []
    }
  ]
}