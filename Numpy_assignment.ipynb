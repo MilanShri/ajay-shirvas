{
  "nbformat": 4,
  "nbformat_minor": 0,
  "metadata": {
    "colab": {
      "provenance": [],
      "authorship_tag": "ABX9TyMc8qsyodKVwcUHkf0s2rYX",
      "include_colab_link": true
    },
    "kernelspec": {
      "name": "python3",
      "display_name": "Python 3"
    },
    "language_info": {
      "name": "python"
    }
  },
  "cells": [
    {
      "cell_type": "markdown",
      "metadata": {
        "id": "view-in-github",
        "colab_type": "text"
      },
      "source": [
        "<a href=\"https://colab.research.google.com/github/MilanShri/ajay-shirvas/blob/main/Numpy_assignment.ipynb\" target=\"_parent\"><img src=\"https://colab.research.google.com/assets/colab-badge.svg\" alt=\"Open In Colab\"/></a>"
      ]
    },
    {
      "cell_type": "markdown",
      "source": [
        "**Theoretical** **Questions**:"
      ],
      "metadata": {
        "id": "Opcvwh8ed0wz"
      }
    },
    {
      "cell_type": "markdown",
      "source": [
        "Ques 1) Explain the purpose and advantages of NumPy in scientific computing and data analysis. How does it\n",
        "enhance Python's capabilities for numerical operations?\n",
        "\n",
        "Ans) Numpy is a fundamental liberary in python for scientific computing deal with multidimentional array and perform various mathematical operations effeciently.\n",
        "\n",
        "advantage - Numpy is ideal for halding large amount of data (homogenous data), offering significant improvement in speed and memory management, making it a powerful tool for scientific compution and data processing on the CPU."
      ],
      "metadata": {
        "id": "kPwmG-BrfxqW"
      }
    },
    {
      "cell_type": "markdown",
      "source": [
        "Ques 2)  Compare and contrast np.mean() and np.average() functions in NumPy. When would you use one over the\n",
        "other?\n",
        "\n",
        "Ans) In numpy library, both np.mean() and np.average() can be used to calculate arithmetic mean. The differenece comes when we have to perform average on weighted array. np.average() gives us flexibilty to work with the weighted arrays too. If we pass the weight of the array to the function, it can perform weighted average at very ease. That is not the case for the np.mean(). It can only be perfomred on non-weighted arrays.\n"
      ],
      "metadata": {
        "id": "4x48c89PgjNk"
      }
    },
    {
      "cell_type": "markdown",
      "source": [
        "Ques 3)  Describe the methods for reversing a NumPy array along different axes. Provide examples for 1D and 2D\n",
        "arrays.\n",
        "\n",
        "Ans) We can reverse the array through the slicing or by using np.flipud() and np.filplr() numpy methods."
      ],
      "metadata": {
        "id": "FHExSRaAgqlu"
      }
    },
    {
      "cell_type": "code",
      "source": [
        "import numpy as np  # 1 dim array reverse\n",
        "\n",
        "arr1 = np.array([1,2,3,4,5])\n",
        "reverse_arr1 = arr1[::-1]\n",
        "print(\"\\n the original array is :\", arr1)\n",
        "print(\"\\n the reverse array is :\",  reverse_arr1)"
      ],
      "metadata": {
        "colab": {
          "base_uri": "https://localhost:8080/"
        },
        "id": "VUcJmh9ghD_U",
        "outputId": "e9a72327-c8d5-4028-9693-e46c575fa6e2"
      },
      "execution_count": null,
      "outputs": [
        {
          "output_type": "stream",
          "name": "stdout",
          "text": [
            "\n",
            " the original array is : [1 2 3 4 5]\n",
            "\n",
            " the reverse array is : [5 4 3 2 1]\n"
          ]
        }
      ]
    },
    {
      "cell_type": "code",
      "source": [
        "import numpy as np # 2 dim array\n",
        "\n",
        "arr2 = np.array([[1,2,3,],[4,5,6],[7,8,9]])\n",
        "print(\"\\n the original array is :\")\n",
        "print(arr2)\n",
        "print(\"\\n the reverse 2 d array up and down is :\")\n",
        "reverse_arr2 = np.flipud(arr2)\n",
        "print(reverse_arr2)"
      ],
      "metadata": {
        "colab": {
          "base_uri": "https://localhost:8080/"
        },
        "id": "7n8QprDwhj54",
        "outputId": "13aa8543-b160-4978-d0a5-4ff3905f6239"
      },
      "execution_count": null,
      "outputs": [
        {
          "output_type": "stream",
          "name": "stdout",
          "text": [
            "\n",
            " the original array is :\n",
            "[[1 2 3]\n",
            " [4 5 6]\n",
            " [7 8 9]]\n",
            "\n",
            " the reverse 2 d array up and down is :\n",
            "[[7 8 9]\n",
            " [4 5 6]\n",
            " [1 2 3]]\n"
          ]
        }
      ]
    },
    {
      "cell_type": "markdown",
      "source": [
        "Ques 4)  How can you determine the data type of elements in a NumPy array? Discuss the importance of data types\n",
        "in memory management and performance.\n",
        "\n",
        "Ans) In numpy, the data type of the elements in an array is essetial for efficient memory management and performance optimization."
      ],
      "metadata": {
        "id": "VV0SYGwdgqiS"
      }
    },
    {
      "cell_type": "code",
      "source": [
        "import numpy as np\n",
        "arr = np.array([1,4,5,2,3,6])  # this is implicite data type where python knows the data type by default.\n",
        "print(\"\\n the data type of this give array is :\", arr.dtype)\n",
        "\n",
        "\n",
        "\n",
        "arr2 = np.arange(10, dtype = np.float16)  # this is explicite data type when we intentially change the data type.\n",
        "\n",
        "print(arr2)\n",
        "print(arr2.dtype)\n"
      ],
      "metadata": {
        "colab": {
          "base_uri": "https://localhost:8080/"
        },
        "id": "bttn-nxWjBW_",
        "outputId": "4d5de39d-4e87-492d-a606-0b6a82e71cce"
      },
      "execution_count": null,
      "outputs": [
        {
          "output_type": "stream",
          "name": "stdout",
          "text": [
            "\n",
            " the data type of this give array is : int64\n",
            "[0. 1. 2. 3. 4. 5. 6. 7. 8. 9.]\n",
            "float16\n"
          ]
        }
      ]
    },
    {
      "cell_type": "markdown",
      "source": [
        "Ques 5) Define ndarrays in NumPy and explain their key features. How do they differ from standard Python lists?\n",
        "\n",
        "Ans) n-dimensional array are the core data structure for handling numerical data efficently. an ndarray is a high-performance container of large data set.\n",
        "\n",
        "features are --\n",
        "\n",
        "1) homogenous in nature (eg. all int, all float)\n",
        "\n",
        "2) multidimensional\n",
        "\n",
        "3) effective memory management\n"
      ],
      "metadata": {
        "id": "Z5c3dWZ2gqfg"
      }
    },
    {
      "cell_type": "code",
      "source": [
        "import numpy as np\n",
        "arr1 = np.array([10,20,30,40])\n",
        "print(arr1)\n",
        "print(arr1.shape)\n",
        "print(arr1.ndim)"
      ],
      "metadata": {
        "colab": {
          "base_uri": "https://localhost:8080/"
        },
        "id": "Oh-AGglOk6FN",
        "outputId": "10134d7f-adfe-4ded-a851-cf704bc587b4"
      },
      "execution_count": null,
      "outputs": [
        {
          "output_type": "stream",
          "name": "stdout",
          "text": [
            "[10 20 30 40]\n",
            "(4,)\n",
            "1\n"
          ]
        }
      ]
    },
    {
      "cell_type": "code",
      "source": [
        "import numpy as np\n",
        "arr2 = np.array([[[10,20],[30,40]],[[50,60],[70,80]]])\n",
        "print(arr2)\n",
        "print(arr2.shape)\n",
        "print(arr2.ndim)"
      ],
      "metadata": {
        "colab": {
          "base_uri": "https://localhost:8080/"
        },
        "id": "2v8Tc73UlLrT",
        "outputId": "c9e494af-73e3-4c39-f4b5-eac4296b11bd"
      },
      "execution_count": null,
      "outputs": [
        {
          "output_type": "stream",
          "name": "stdout",
          "text": [
            "[[[10 20]\n",
            "  [30 40]]\n",
            "\n",
            " [[50 60]\n",
            "  [70 80]]]\n",
            "(2, 2, 2)\n",
            "3\n"
          ]
        }
      ]
    },
    {
      "cell_type": "markdown",
      "source": [
        "Ques 6)  Analyze the performance benefits of NumPy arrays over Python lists for large-scale numerical operations\n",
        "\n",
        "Ans) Memory efficiency - Numpy array is that they store sata in continous block of memory, meaning that all the elements are stored next to each otehr. this allow for more efficient access and manipulation of data compare to python list.\n",
        "\n",
        "Python list s can hold elements of differnt data types. which makes them less memory efficient in nature for large dataset. numpy arrays are homogenous in nature.\n",
        "\n",
        "Due to continkus memory layout, accessing elements in numpy arrar is faster than python list.\n",
        "\n",
        "Numpy mainly deals with array so it is more flexible and faster than list.\n",
        "\n"
      ],
      "metadata": {
        "id": "w5EtMx7Ugqcs"
      }
    },
    {
      "cell_type": "markdown",
      "source": [
        "Ques 7)  Compare vstack() and hstack() functions in NumPy. Provide examples demonstrating their usage and\n",
        "output.\n",
        "\n",
        "Ans) vstake - vertically stack array and hstake -- horizontal stack array.\n",
        "\n",
        "numpy.hstack() function is used to stack the sequence of input array horizontally to make a single array\n",
        "\n",
        "numpy.vstack() function is used to stack the sequence of input array vertically to make a single array\n",
        "\n",
        "the array must have the same shape.\n"
      ],
      "metadata": {
        "id": "V7neYI3OmhmZ"
      }
    },
    {
      "cell_type": "code",
      "source": [
        "a = np.array([11,12,13])\n",
        "b = np.array([14,15,16])\n",
        "c = np.hstack((a,b))\n",
        "print(c)"
      ],
      "metadata": {
        "colab": {
          "base_uri": "https://localhost:8080/"
        },
        "id": "LH1IroyOnNqS",
        "outputId": "133e2d7e-d1cc-4979-cb00-01a2310cd742"
      },
      "execution_count": null,
      "outputs": [
        {
          "output_type": "stream",
          "name": "stdout",
          "text": [
            "[11 12 13 14 15 16]\n"
          ]
        }
      ]
    },
    {
      "cell_type": "markdown",
      "source": [
        "Ques 8)  Explain the differences between fliplr() and flipud() methods in NumPy, including their effects on various\n",
        "array dimensions.\n",
        "\n",
        "Ans)"
      ],
      "metadata": {
        "id": "hEzxUsj-mhjE"
      }
    },
    {
      "cell_type": "code",
      "source": [
        "# fliplr() function is used to flip the array left to right\n",
        "# flipud() function is used to flip the array up to down\n",
        "\n",
        "import numpy as np # 2 dim array\n",
        "\n",
        "arr2 = np.array([[1,2,3,],[4,5,6],[7,8,9]])\n",
        "print(\"\\n the original array is :\")\n",
        "print(arr2)\n",
        "print(\"\\n the reverse 2 d array up and down is :\")\n",
        "reverse_arr2 = np.flipud(arr2)\n",
        "print(reverse_arr2)"
      ],
      "metadata": {
        "colab": {
          "base_uri": "https://localhost:8080/"
        },
        "id": "_d79fqg4numf",
        "outputId": "b55d50f6-fdc1-4391-d9cf-f72083992e41"
      },
      "execution_count": null,
      "outputs": [
        {
          "output_type": "stream",
          "name": "stdout",
          "text": [
            "\n",
            " the original array is :\n",
            "[[1 2 3]\n",
            " [4 5 6]\n",
            " [7 8 9]]\n",
            "\n",
            " the reverse 2 d array up and down is :\n",
            "[[7 8 9]\n",
            " [4 5 6]\n",
            " [1 2 3]]\n"
          ]
        }
      ]
    },
    {
      "cell_type": "markdown",
      "source": [
        "Ques 9) . Discuss the functionality of the array_split() method in NumPy. How does it handle uneven splits?\n",
        "\n",
        "Ans) Numpy array are an essential part for scientfic calculations, so it become necessary to manipulate and analyse specific parts of the data .\n",
        "\n",
        "the split(), hsplit(), vsplit(), and dsplit() functions are important tool for dividing array along various axes and dimension."
      ],
      "metadata": {
        "id": "Y0UuE0eUmhf9"
      }
    },
    {
      "cell_type": "code",
      "source": [
        "import numpy as np\n",
        "arr= np.array([1,2,3,4,5,6])\n",
        "array1 = np.array_split(arr, 3)\n",
        "print(array1)"
      ],
      "metadata": {
        "colab": {
          "base_uri": "https://localhost:8080/"
        },
        "id": "0wTqZHsfyAid",
        "outputId": "2ab7de11-6259-4814-e4e8-9d1217d8c8d4"
      },
      "execution_count": null,
      "outputs": [
        {
          "output_type": "stream",
          "name": "stdout",
          "text": [
            "[array([1, 2]), array([3, 4]), array([5, 6])]\n"
          ]
        }
      ]
    },
    {
      "cell_type": "code",
      "source": [
        "import numpy as np\n",
        "array = np.arange(6)\n",
        "result = np.split(array, 2)\n",
        "print(array)\n",
        "print(result)"
      ],
      "metadata": {
        "colab": {
          "base_uri": "https://localhost:8080/"
        },
        "id": "2SKZTbY5yfRw",
        "outputId": "580340fe-a332-4d31-9fc2-88c3fb5f16c1"
      },
      "execution_count": null,
      "outputs": [
        {
          "output_type": "stream",
          "name": "stdout",
          "text": [
            "[0 1 2 3 4 5]\n",
            "[array([0, 1, 2]), array([3, 4, 5])]\n"
          ]
        }
      ]
    },
    {
      "cell_type": "markdown",
      "source": [
        "Ques 10)  Explain the concepts of vectorization and broadcasting in NumPy. How do they contribute to efficient array\n",
        "operations?\n",
        "\n",
        "Ans) Broadcasting in numpy is a powerfull feature that allows to work with array of different shape when performance arithematic operations. it does this by broadcasting.\n",
        "\n",
        "ex - you have score of 5 students i.e\n",
        "\n",
        "score = [20,30,40,50,60]\n",
        "\n",
        "and want to add 5 bonus to each score then\n",
        "\n",
        "bonus = [5]\n",
        "\n",
        "result will be = [25,35,45,55,60]\n"
      ],
      "metadata": {
        "id": "92LmuT3umhZD"
      }
    },
    {
      "cell_type": "code",
      "source": [
        "score = np.arange(5)\n",
        "print(\"\\n the score of the students are :\", score)\n",
        "bonus = [5]\n",
        "result = score+bonus\n",
        "print(\"\\n the final score of the students after adding bonus are :\", result)"
      ],
      "metadata": {
        "colab": {
          "base_uri": "https://localhost:8080/"
        },
        "id": "ESQITwhVzdw3",
        "outputId": "aab97ae2-4b2e-485d-f500-45de0043a3d9"
      },
      "execution_count": null,
      "outputs": [
        {
          "output_type": "stream",
          "name": "stdout",
          "text": [
            "\n",
            " the score of the students are : [0 1 2 3 4]\n",
            "\n",
            " the final score of the students after adding bonus are : [5 6 7 8 9]\n"
          ]
        }
      ]
    },
    {
      "cell_type": "markdown",
      "source": [
        "**Practical Questions:**"
      ],
      "metadata": {
        "id": "55JgwbyhmhWb"
      }
    },
    {
      "cell_type": "markdown",
      "source": [
        "Ques 1) Create a 3x3 NumPy array with random integers between 1 and 100. Then, interchange its rows and columns."
      ],
      "metadata": {
        "id": "kWcdLwUmmhS8"
      }
    },
    {
      "cell_type": "code",
      "source": [
        "import numpy as np\n",
        "from numpy import random\n",
        "x = random.randint(100, size = (3,3))\n",
        "print(x)\n"
      ],
      "metadata": {
        "id": "RUiO_vY0nBT1",
        "colab": {
          "base_uri": "https://localhost:8080/"
        },
        "outputId": "cebb196f-d060-4b32-f658-08739fe33dd0"
      },
      "execution_count": null,
      "outputs": [
        {
          "output_type": "stream",
          "name": "stdout",
          "text": [
            "[[66 98 34]\n",
            " [64 53 79]\n",
            " [70 45 63]]\n"
          ]
        }
      ]
    },
    {
      "cell_type": "code",
      "source": [
        "import numpy as np\n",
        "from numpy import random\n",
        "x = random.randint(1, 101, size = (3,3))\n",
        "print(x)\n",
        "print(\"\\n reshape Array\")\n",
        "# y = x.reshape()\n",
        "y = x.T\n",
        "print(y)\n",
        "\n"
      ],
      "metadata": {
        "colab": {
          "base_uri": "https://localhost:8080/"
        },
        "id": "T67dPrnQoqwa",
        "outputId": "051ff5ed-8c99-4e87-f194-b0366bf9981d"
      },
      "execution_count": null,
      "outputs": [
        {
          "output_type": "stream",
          "name": "stdout",
          "text": [
            "[[59 58 41]\n",
            " [76 62 98]\n",
            " [61 78 67]]\n",
            "\n",
            " reshape Array\n",
            "[[59 76 61]\n",
            " [58 62 78]\n",
            " [41 98 67]]\n"
          ]
        }
      ]
    },
    {
      "cell_type": "markdown",
      "source": [
        "Ques 2) Generate a 1D NumPy array with 10 elements. Reshape it into a 2x5 array, then into a 5x2 array."
      ],
      "metadata": {
        "id": "G9OqPXEUsCy9"
      }
    },
    {
      "cell_type": "code",
      "source": [
        "import numpy as np\n",
        "from numpy import random\n",
        "arr = random.randint(20, size = 10)\n",
        "print(arr)\n",
        "print(\"\\n the reshape array is 2*5 :\")\n",
        "new_arr = arr.reshape(2,5)\n",
        "print(new_arr)\n",
        "\n",
        "print(\"\\n the reshape array is 5*2 :\")\n",
        "new_arr1 = arr.reshape(5,2)\n",
        "print(new_arr1)"
      ],
      "metadata": {
        "colab": {
          "base_uri": "https://localhost:8080/"
        },
        "id": "ARfZXnO3oqtB",
        "outputId": "c7d51c1f-935d-4fbc-8c06-0b1c805ca809"
      },
      "execution_count": null,
      "outputs": [
        {
          "output_type": "stream",
          "name": "stdout",
          "text": [
            "[ 0 14 16 15  0  0  7  0  7 19]\n",
            "\n",
            " the reshape array is 2*5 :\n",
            "[[ 0 14 16 15  0]\n",
            " [ 0  7  0  7 19]]\n",
            "\n",
            " the reshape array is 5*2 :\n",
            "[[ 0 14]\n",
            " [16 15]\n",
            " [ 0  0]\n",
            " [ 7  0]\n",
            " [ 7 19]]\n"
          ]
        }
      ]
    },
    {
      "cell_type": "markdown",
      "source": [
        "Ques 3) Create a 4x4 NumPy array with random float values. Add a border of zeros around it, resulting in a 6x6 array"
      ],
      "metadata": {
        "id": "JNvF_XZFxJ-I"
      }
    },
    {
      "cell_type": "code",
      "source": [
        "import numpy as np\n",
        "from numpy import random\n",
        "arr = random.random(size = (4,4))\n",
        "print(arr)\n",
        "\n",
        "print(\"\\n print array with 0 around it\")\n",
        "\n",
        "arr_with_zeros = np.pad(arr, pad_width = 1, mode = \"constant\", constant_values = 0)\n",
        "print(arr_with_zeros)\n",
        "\n",
        "print(\"\\n the dim of this array :\", arr_with_zeros.ndim)\n",
        "print(\"\\n the shape is :\", arr_with_zeros.shape)"
      ],
      "metadata": {
        "colab": {
          "base_uri": "https://localhost:8080/"
        },
        "id": "VRETzkPnoqhC",
        "outputId": "45dee446-5fea-4bbc-b161-5667e796fdaa"
      },
      "execution_count": null,
      "outputs": [
        {
          "output_type": "stream",
          "name": "stdout",
          "text": [
            "[[0.2847411  0.52386044 0.82507117 0.10343444]\n",
            " [0.70942168 0.9377681  0.22529691 0.51059317]\n",
            " [0.45359343 0.38963929 0.4336274  0.75328069]\n",
            " [0.09804406 0.17896975 0.94697263 0.99270694]]\n",
            "\n",
            " print array with 0 around it\n",
            "[[0.         0.         0.         0.         0.         0.        ]\n",
            " [0.         0.2847411  0.52386044 0.82507117 0.10343444 0.        ]\n",
            " [0.         0.70942168 0.9377681  0.22529691 0.51059317 0.        ]\n",
            " [0.         0.45359343 0.38963929 0.4336274  0.75328069 0.        ]\n",
            " [0.         0.09804406 0.17896975 0.94697263 0.99270694 0.        ]\n",
            " [0.         0.         0.         0.         0.         0.        ]]\n",
            "\n",
            " the dim of this array : 2\n",
            "\n",
            " the shape is : (6, 6)\n"
          ]
        }
      ]
    },
    {
      "cell_type": "markdown",
      "source": [
        "Ques 4) Using NumPy, create an array of integers from 10 to 60 with a step of 5."
      ],
      "metadata": {
        "id": "6hMwQ-iogqZx"
      }
    },
    {
      "cell_type": "code",
      "execution_count": null,
      "metadata": {
        "id": "VlLLlbA7fsX6",
        "colab": {
          "base_uri": "https://localhost:8080/"
        },
        "outputId": "30633750-1b9c-43cf-f99d-505378a75822"
      },
      "outputs": [
        {
          "output_type": "execute_result",
          "data": {
            "text/plain": [
              "array([10, 15, 20, 25, 30, 35, 40, 45, 50, 55, 60])"
            ]
          },
          "metadata": {},
          "execution_count": 45
        }
      ],
      "source": [
        "import numpy as np\n",
        "from numpy import random\n",
        "arr3 = np.arange(10,61,5)\n",
        "arr3"
      ]
    },
    {
      "cell_type": "markdown",
      "source": [
        "Ques 5) Create a NumPy array of strings ['python', 'numpy', 'pandas']. Apply different case transformations\n",
        "(uppercase, lowercase, title case, etc.) to each element."
      ],
      "metadata": {
        "id": "vVCe99UcyRu0"
      }
    },
    {
      "cell_type": "code",
      "source": [
        "import numpy as np\n",
        "arr = np.array(('python', 'numpy', 'pandas'))\n",
        "upper_arr = np.char.upper(arr)\n",
        "lower_arr = np.char.lower(arr)\n",
        "title_arr = np.char.title(arr)\n",
        "print(title_arr)\n",
        "print(lower_arr)\n",
        "print(upper_arr)\n"
      ],
      "metadata": {
        "colab": {
          "base_uri": "https://localhost:8080/"
        },
        "id": "v6dCyNxDx5CR",
        "outputId": "fe0769a3-eb13-4634-cc49-9843ac0ce062"
      },
      "execution_count": null,
      "outputs": [
        {
          "output_type": "stream",
          "name": "stdout",
          "text": [
            "['Python' 'Numpy' 'Pandas']\n",
            "['python' 'numpy' 'pandas']\n",
            "['PYTHON' 'NUMPY' 'PANDAS']\n"
          ]
        }
      ]
    },
    {
      "cell_type": "markdown",
      "source": [
        "Ques 6)  Generate a NumPy array of words. Insert a space between each character of every word in the array"
      ],
      "metadata": {
        "id": "K6WClX2M0xJN"
      }
    },
    {
      "cell_type": "code",
      "source": [
        "import numpy as np\n",
        "arr = np.array(('python', 'numpy', 'pandas'))\n",
        "print(arr)\n",
        "#######################################################3 incorrect\n",
        "space_arr = np.char.add(\" \" , np.char.add(arr,\",\"))\n",
        "print(space_arr)"
      ],
      "metadata": {
        "colab": {
          "base_uri": "https://localhost:8080/"
        },
        "id": "wbhKSBiOynqQ",
        "outputId": "4d0a6c9e-e1d0-4f72-cd4d-5faf90f2f932"
      },
      "execution_count": 27,
      "outputs": [
        {
          "output_type": "stream",
          "name": "stdout",
          "text": [
            "['python' 'numpy' 'pandas']\n",
            "[' python,' ' numpy,' ' pandas,']\n"
          ]
        }
      ]
    },
    {
      "cell_type": "markdown",
      "source": [
        "Ques 7)  Create two 2D NumPy arrays and perform element-wise addition, subtraction, multiplication, and division."
      ],
      "metadata": {
        "id": "F-EZH3NZ2oXA"
      }
    },
    {
      "cell_type": "code",
      "source": [
        "import numpy as np\n",
        "c = np.array([[1,2,3],[4,5,6]])\n",
        "print(c)"
      ],
      "metadata": {
        "colab": {
          "base_uri": "https://localhost:8080/"
        },
        "id": "63n98pSBzyUD",
        "outputId": "57570887-ecf3-432d-8ff7-a0a256b77102"
      },
      "execution_count": null,
      "outputs": [
        {
          "output_type": "stream",
          "name": "stdout",
          "text": [
            "[[1 2 3]\n",
            " [4 5 6]]\n"
          ]
        }
      ]
    },
    {
      "cell_type": "code",
      "source": [
        "c+5"
      ],
      "metadata": {
        "colab": {
          "base_uri": "https://localhost:8080/"
        },
        "id": "t1TLXwYc19FL",
        "outputId": "dc6468ca-2cc7-4ca2-be3d-6b23017ff83e"
      },
      "execution_count": null,
      "outputs": [
        {
          "output_type": "execute_result",
          "data": {
            "text/plain": [
              "array([[ 6,  7,  8],\n",
              "       [ 9, 10, 11]])"
            ]
          },
          "metadata": {},
          "execution_count": 69
        }
      ]
    },
    {
      "cell_type": "code",
      "source": [
        "c-10"
      ],
      "metadata": {
        "colab": {
          "base_uri": "https://localhost:8080/"
        },
        "id": "fUF0D6Ys3FmN",
        "outputId": "9610f117-857e-4412-b884-e3bc9548e71b"
      },
      "execution_count": null,
      "outputs": [
        {
          "output_type": "execute_result",
          "data": {
            "text/plain": [
              "array([[-9, -8, -7],\n",
              "       [-6, -5, -4]])"
            ]
          },
          "metadata": {},
          "execution_count": 70
        }
      ]
    },
    {
      "cell_type": "code",
      "source": [
        "c*2"
      ],
      "metadata": {
        "colab": {
          "base_uri": "https://localhost:8080/"
        },
        "id": "8U76bcvv3HzH",
        "outputId": "63108b88-8b0d-4567-a850-a912b31e110a"
      },
      "execution_count": null,
      "outputs": [
        {
          "output_type": "execute_result",
          "data": {
            "text/plain": [
              "array([[ 2,  4,  6],\n",
              "       [ 8, 10, 12]])"
            ]
          },
          "metadata": {},
          "execution_count": 71
        }
      ]
    },
    {
      "cell_type": "code",
      "source": [
        "c/5"
      ],
      "metadata": {
        "colab": {
          "base_uri": "https://localhost:8080/"
        },
        "id": "Lw7GbAST3JkR",
        "outputId": "3940593e-22b0-45aa-fb7d-41453bc3a804"
      },
      "execution_count": null,
      "outputs": [
        {
          "output_type": "execute_result",
          "data": {
            "text/plain": [
              "array([[0.2, 0.4, 0.6],\n",
              "       [0.8, 1. , 1.2]])"
            ]
          },
          "metadata": {},
          "execution_count": 72
        }
      ]
    },
    {
      "cell_type": "markdown",
      "source": [
        "Ques 9) Generate a NumPy array of 100 random integers between 0 and 1000. Find and display all prime numbers in\n",
        "this array"
      ],
      "metadata": {
        "id": "UuFJq4Ln3WIE"
      }
    },
    {
      "cell_type": "code",
      "source": [
        "import numpy as np\n",
        "from numpy import random\n",
        "new_arr = random.randint(0, 1000, size = 100)\n",
        "print(new_arr)\n",
        "\n"
      ],
      "metadata": {
        "colab": {
          "base_uri": "https://localhost:8080/"
        },
        "id": "EFKwBXIg3NrB",
        "outputId": "f749d6a4-daee-4c08-ef4b-c0fe79db157d"
      },
      "execution_count": null,
      "outputs": [
        {
          "output_type": "stream",
          "name": "stdout",
          "text": [
            "[434 777 302 473  50 185  76  71 650 766 596 111 626 614 485 139 633 999\n",
            " 173 486 280 365 788 451 990 325 251 183 122  37 554 173 496 817 500 179\n",
            " 458 806 209 411 183 752 203 530 121 295 656 543 198 118  74 447 200 772\n",
            " 621 205 679 939 853 597 382 644 813 442 108 153 260 201 332 897 116 350\n",
            " 997 882 592 833 393 930 301 394 269 245 648 310 886 794 513 202 187 629\n",
            " 506  26 269 986 656 310 799 185 734 447]\n"
          ]
        }
      ]
    },
    {
      "cell_type": "code",
      "source": [
        "import numpy as np\n",
        "from numpy import random\n",
        "\n",
        "# Generate an array with 100 random integers between 0 and 1000\n",
        "new_arr = random.randint(0, 1000, size=100)\n",
        "print(\"Generated Array: \", new_arr)\n",
        "\n",
        "def is_prime(num):\n",
        "    if num <= 1:\n",
        "        return False  # Numbers less than or equal to 1 are not prime\n",
        "    for i in range(2, int(num**0.5) + 1):  # Only check divisibility up to sqrt(num)\n",
        "        if num % i == 0:\n",
        "            return False  # num is divisible, so it's not prime\n",
        "    return True  # num is prime\n",
        "\n",
        "# Find prime numbers in the array\n",
        "primes = [num for num in new_arr if is_prime(num)]\n",
        "print(\"Prime Numbers: \", primes)\n"
      ],
      "metadata": {
        "colab": {
          "base_uri": "https://localhost:8080/"
        },
        "id": "n3VmDa7WXSVe",
        "outputId": "df8e8e68-9550-42a2-cbb6-7e84ad67239d"
      },
      "execution_count": 8,
      "outputs": [
        {
          "output_type": "stream",
          "name": "stdout",
          "text": [
            "Generated Array:  [432 278 549 143 891 832  18 856 871 125 880 426 295 176 252 671  98 516\n",
            " 167 699 700 266 416 624 507  29 674 968 357 201 581 846 289 297 298 751\n",
            " 534 610 332 421 753 431 854 266 515 629 398 844 475 487 775 751 404 902\n",
            " 829 430 311 875 558 170 778 845 115 171 268 244 689  96 814  54 238 387\n",
            " 459  43 813 651 217 670 426 238 202 158 127 932 996 122 566 435 705 395\n",
            " 468 145 455 651 622 883 405 796 895  70]\n",
            "Prime Numbers:  [167, 29, 751, 421, 431, 487, 751, 829, 311, 43, 127, 883]\n"
          ]
        }
      ]
    },
    {
      "cell_type": "markdown",
      "source": [
        "Ques 10)  Create a NumPy array representing daily temperatures for a month. Calculate and display the weekly\n",
        "averages."
      ],
      "metadata": {
        "id": "C_EczNvHY26-"
      }
    },
    {
      "cell_type": "code",
      "source": [
        "import numpy as np\n",
        "from numpy import random\n",
        "new_arr = np.random.uniform(15, 35, size = (30)) # getting 30 days random temp through random.uniform function\n",
        "print(new_arr)\n",
        "\n",
        "# week_temp = new_arr.reshape(4,7)\n",
        "week_temp = new_arr.reshape(6, -1) # consider 6 days = 1 week\n",
        "print(\"\\n first week temp can calculate like \")\n",
        "week_temp = new_arr[:6]\n",
        "print(week_temp)\n",
        "print(\"\\n the avg temp in week first is : \", week_temp.mean())"
      ],
      "metadata": {
        "colab": {
          "base_uri": "https://localhost:8080/"
        },
        "id": "ncs6Sn8MYoT5",
        "outputId": "6bd384cd-2bc2-47ce-fc9d-1e842e9779e6"
      },
      "execution_count": 24,
      "outputs": [
        {
          "output_type": "stream",
          "name": "stdout",
          "text": [
            "[34.44872175 17.52876841 33.94671777 26.68845867 15.12947683 22.85870729\n",
            " 16.25011839 22.41876633 24.07612673 15.75630106 24.42428458 28.46309816\n",
            " 28.24813675 24.14374883 34.78140477 32.2733895  34.9388917  17.92779314\n",
            " 21.0543121  19.5891559  20.22356458 27.46333921 23.1806906  18.00538333\n",
            " 17.07890486 19.64341398 15.73033288 17.259419   28.18265997 22.32543909]\n",
            "\n",
            " first week temp can calculate like \n",
            "[34.44872175 17.52876841 33.94671777 26.68845867 15.12947683 22.85870729]\n",
            "\n",
            " the avg temp in week first is :  25.100141785207413\n"
          ]
        }
      ]
    },
    {
      "cell_type": "code",
      "source": [],
      "metadata": {
        "id": "-6Hkg2RmZt7-"
      },
      "execution_count": null,
      "outputs": []
    }
  ]
}