{
  "nbformat": 4,
  "nbformat_minor": 0,
  "metadata": {
    "colab": {
      "provenance": [],
      "authorship_tag": "ABX9TyOwq1/qqGS9HA0HEtzIL6PG",
      "include_colab_link": true
    },
    "kernelspec": {
      "name": "python3",
      "display_name": "Python 3"
    },
    "language_info": {
      "name": "python"
    }
  },
  "cells": [
    {
      "cell_type": "markdown",
      "metadata": {
        "id": "view-in-github",
        "colab_type": "text"
      },
      "source": [
        "<a href=\"https://colab.research.google.com/github/MilanShri/ajay-shirvas/blob/main/Statistics_Basics_assignment.ipynb\" target=\"_parent\"><img src=\"https://colab.research.google.com/assets/colab-badge.svg\" alt=\"Open In Colab\"/></a>"
      ]
    },
    {
      "cell_type": "markdown",
      "source": [
        "**Ques 1**)  Explain the different types of data (qualitative and quantitative) and provide examples of each. Discuss\n",
        "nominal, ordinal, interval, and ratio scales."
      ],
      "metadata": {
        "id": "fOolLKo7j3F4"
      }
    },
    {
      "cell_type": "markdown",
      "source": [
        "Answer ) Data is divided into two parts- **Quantitative and Qualitative**, Quantitative data means numerical data or which can be measurable.\n",
        "\n",
        "Qualitative data is also called categorical data / String.\n",
        "\n",
        "**Quantitative and Qualitative also further divided into Discrete and Continous. Norminal and Ordinal** respectively.\n",
        "\n",
        "**Discrete data **- means whole nos ex 1,2,3,4 etc which cant break further or demical . it take specific finite whole no.\n",
        "no. of cars , nos of account no., nos of rooms etc\n",
        "\n",
        "**Continous data **- any value in a range (whole, decimal, any number. ex- 1.098, 3.2456)\n",
        "\n",
        "**Nominal** - means no order in categorical.\n",
        "**Ordinal** - means order in data ex- Rank and Salary etc\n",
        "\n",
        "**Scales of measurement-**\n",
        "\n",
        "1) interval Scale data\n",
        "2) Ratio Scale data\n",
        "3) Nominal Scale data\n",
        "4) Ordinal Scale data\n",
        "\n",
        "\n",
        "\n"
      ],
      "metadata": {
        "id": "ssLrceHLj3Cn"
      }
    },
    {
      "cell_type": "markdown",
      "source": [
        "**Ques 2**)  What are the measures of central tendency, and when should you use each? Discuss the mean, median,\n",
        "and mode with examples and situations where each is appropriate."
      ],
      "metadata": {
        "id": "tmjOoF_wj2_3"
      }
    },
    {
      "cell_type": "markdown",
      "source": [
        "Answer) Central Tendencies in Statistics are the numerical values that are used to represent mid-value or central value a large collection of numerical data. These obtained numerical values are called central or average values in Statistics.\n",
        "\n",
        "Outlier - when outlier is present, mediam is preferred becoz mean can be show wrong data.\n",
        "\n",
        "Central Tendancy represent thecentral point of a dataset. Measure of central tendency are -\n",
        "\n",
        "1) **Mean** = when outlier is not present, can use mean\n",
        "\n",
        "2) **Median** = lies between mean and mode.\n",
        "\n",
        "3) **Mode** = most frequent value/ repeated value\n",
        "\n",
        "Mean = avg value\n",
        "\n",
        "median = sort the values first, the physical mid-value of sorted data is median\n",
        "\n",
        "mode = most occured value is mode"
      ],
      "metadata": {
        "id": "3MTYjKYqj29U"
      }
    },
    {
      "cell_type": "markdown",
      "source": [
        "**Ques 3)**  Explain the concept of dispersion. How do variance and standard deviation measure the spread of data?\n",
        "\n",
        "\n"
      ],
      "metadata": {
        "id": "O0h9meA8j262"
      }
    },
    {
      "cell_type": "markdown",
      "source": [
        "Answer) dispersion means how data lies or how data spread. we can find through\n",
        "range, percentage, percentile, quatile, variance and standard deviation.\n",
        "\n",
        "**variance** - Variance measures that how data points differ from the mean. or we can say that variance measure the expected difference of deviation from the actual value .\n",
        "\n",
        "How to find variance ---\n",
        "\n",
        "1) calculate the mean value of the data set.\n",
        "\n",
        "2) from each no. in data, substract the mean and the no\n",
        "\n",
        "3) sq of difference\n",
        "\n",
        "4) calculate the avg of sq of difference.\n",
        "\n",
        "-----------------------------\n",
        "In python,\n",
        "\n",
        "import numpy as np\n",
        "\n",
        "np.var(data)\n",
        "\n",
        "------------------\n",
        "import statistics\n",
        "\n",
        "statistics.variance(data)\n",
        "\n",
        "------------------------\n",
        "\n",
        "\n",
        "Standard Deviation - standard deviation is the positive sq root of variance.In variance the dimension changes but in standard deviation dimension is not changeing.\n",
        "\n",
        "import numpy as np\n",
        "\n",
        "np.std(data)\n",
        "\n",
        "-------------------------------------\n",
        "\n",
        "\n"
      ],
      "metadata": {
        "id": "S6xQXkCTj2yR"
      }
    },
    {
      "cell_type": "markdown",
      "source": [
        "**Ques 4**) What is a box plot, and what can it tell you about the distribution of data?"
      ],
      "metadata": {
        "id": "j-1OnVnij2u-"
      }
    },
    {
      "cell_type": "markdown",
      "source": [
        "Ans) Box plot tell us the upper fence and lower fence. if data out of the fence then it conside as outliers\n",
        "\n",
        "Box plot based on 5 number summary of data set, which indicate the minimum, Q1, Q2, Q3 and Q4 (max) . the boxplot has a box that shows the rang of central 50% of data, with a line in the middle marking the median. Line extending from the box to show the rang of the remaining data and dots outside the line indicate the outlier.\n",
        "\n",
        "**In python box plot** --\n",
        "\n",
        "i**mport seaborn as sns**\n",
        "\n",
        "**sns.boxplot(data) **"
      ],
      "metadata": {
        "id": "-CAixE4jj2sR"
      }
    },
    {
      "cell_type": "markdown",
      "source": [
        "**Ques 5**) 5. Discuss the role of random sampling in making inferences about populations.\n",
        "\n",
        "Answer) Random sampling is a method used in statistics to selet a subset of individual or items from a large population in such a way that each member of the population has an equal chance of being selected. its fundamental tech for conduction survey.\n",
        "\n",
        "population means whole data. if we dont have access to whole data and time constrant then we can take some sample data from the whole, random technic to make a ref from the sample and we can apply that sample refernce to whole data.\n",
        "\n",
        "\n",
        "type of random sampling are-\n",
        "\n",
        "1) Simple random sampling\n",
        "\n",
        "2) Stratified sampling\n",
        "\n",
        "3) cluster sampling\n",
        "\n",
        "4) systematic sampling\n"
      ],
      "metadata": {
        "id": "kNz9WpRDj2p4"
      }
    },
    {
      "cell_type": "markdown",
      "source": [
        "**Ques 6**) Explain the concept of skewness and its types. How does skewness affect the interpretation of data?\n",
        "\n",
        "Answer ) **Skewness** - Focuses on the shape of distribution and the direction of the skewness (left or right). skewness provide the information about the relationship between mean and median. Positive skewness - mean > median and negative skew is median > mean.\n",
        "\n",
        "if everything is exactly same left and right then there is no skewness. its symmetric.\n",
        " skewness = 0\n",
        "\n",
        " **positive skewness** - tail is on a right side of the distribution. most of the data in the distribution lies on right side .\n",
        "\n",
        " **negative skewness**. -- most of the data in the distribution lies on left side.\n",
        "\n",
        " To knnow the data is skewed or not then\n",
        "\n",
        " visualized"
      ],
      "metadata": {
        "id": "K_rA1bEnJa_e"
      }
    },
    {
      "cell_type": "markdown",
      "source": [
        "**Ques 7**) What is the interquartile range (**IQR**), and how is it used to detect outliers?\n",
        "\n",
        "Answer ) **Range** is taking max and min value. (**max- min)** is range.but outlier affect the range so Quartile comes we divided all data into 4 equal parts(Q0,Q1,Q2,Q3,Q4).\n",
        "\n",
        "**Interquartile range** takes (Q3 - Q1), because the outlies possible be on Q0 or Q4 side so in IQR we take Q3 - Q1. so its not affected by outlier."
      ],
      "metadata": {
        "id": "rW4sdPfbKSrO"
      }
    },
    {
      "cell_type": "markdown",
      "source": [
        "**Ques 8)** Discuss the conditions under which the binomial distribution is used.\n",
        "\n",
        "Answer ) **Binomial Distribution** is the n bernoulli distribution. binomial dist is based on bernoulli distribution, where each trail has an independent and identical chances of success.\n",
        "\n",
        "conditions under which the binomial dist is used  ---\n",
        "\n",
        "1) No of trail should be finite.\n",
        "\n",
        "2) each trail should be independent.\n",
        "\n",
        "3) only 2 possible outcome . pass or fail.\n",
        "\n",
        "4) prob of each output should be same in every trail.\n",
        "\n",
        "example -\n",
        "\n",
        "If we toss a coin 20 times and getting head is the success or failure."
      ],
      "metadata": {
        "id": "66V5kU4nKSni"
      }
    },
    {
      "cell_type": "markdown",
      "source": [
        "**Ques 9**) Explain the properties of the normal distribution and the empirical rule (68-95-99.7 rule)."
      ],
      "metadata": {
        "id": "iMhlmcupKSlF"
      }
    },
    {
      "cell_type": "markdown",
      "source": [
        "**Ques 10)**  Provide a real-life example of a Poisson process and calculate the probability for a specific event.\n",
        "\n",
        "Answer)The **Poisson distribution** is a statistical model that can be used to calculate the probability of a specific number of events occurring. for example hotel booking, website visitors, phone calls etc.\n",
        "\n",
        "properties -\n",
        "\n",
        "1) No of trail should be finite.\n",
        "\n",
        "2) each trail should be independent.\n",
        "\n",
        "3) only 2 possible outcome . pass or fail.\n",
        "\n",
        "4) prob of each output should be same in every trail."
      ],
      "metadata": {
        "id": "wu1Bi6MWKSVW"
      }
    },
    {
      "cell_type": "markdown",
      "source": [
        "**Ques 11**) Explain what a random variable is and differentiate between discrete and continuous random variables.\n",
        "\n",
        "\n",
        "Answer) **Random variable** is a set of random values from a random experiment.\n",
        "for exp - tossing a coin, we will have only two possibilities - H or T.\n",
        "\n",
        "Random variable is a function that assign a real value to an outcome in the sample space of a random experiment.\n",
        "\n",
        "**Discrete variable** is a type of variable that can take finite values or discrete values. for exp no of books in a library, no of cars, no of mens in a room etc\n",
        "\n",
        "**Continous variable** is a type of variablle that can take infinite values or decimal or frictional values. its graph can be curve. for exp Height, Weight, share, scores, plant growth. **etc**\n",
        "\n"
      ],
      "metadata": {
        "id": "dtmP-DioKSRu"
      }
    },
    {
      "cell_type": "markdown",
      "source": [
        "**Ques 12**)  Provide an example dataset, calculate both covariance and correlation, and interpret the results.\n",
        "\n",
        "Answer) **Covariance** means you are trying to understand the relationship of a featrue with respect to other feature. for exp if A increase with respect to B behaviour.\n",
        "\n",
        "**Direct covariance** - Direct covariance is suppose A increase then B also increase and vice versa.\n",
        "\n",
        "**Indirect covariance** - is suppose A increase then B decrease and vice versa.\n",
        "\n",
        "Corelation - Corelation is the sq of covariance. it is dimension less. and its range from -1 to 1."
      ],
      "metadata": {
        "id": "x-60xtGpKSO2"
      }
    },
    {
      "cell_type": "markdown",
      "source": [],
      "metadata": {
        "id": "U0_gvyCnKSMw"
      }
    },
    {
      "cell_type": "code",
      "source": [],
      "metadata": {
        "id": "HJHmu6_fJY7Y"
      },
      "execution_count": null,
      "outputs": []
    }
  ]
}