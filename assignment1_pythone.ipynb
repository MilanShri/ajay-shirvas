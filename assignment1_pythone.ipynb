{
  "nbformat": 4,
  "nbformat_minor": 0,
  "metadata": {
    "colab": {
      "provenance": [],
      "authorship_tag": "ABX9TyNSrWj/xMT92LC6pRFjFAkj",
      "include_colab_link": true
    },
    "kernelspec": {
      "name": "python3",
      "display_name": "Python 3"
    },
    "language_info": {
      "name": "python"
    }
  },
  "cells": [
    {
      "cell_type": "markdown",
      "metadata": {
        "id": "view-in-github",
        "colab_type": "text"
      },
      "source": [
        "<a href=\"https://colab.research.google.com/github/MilanShri/ajay-shirvas/blob/main/assignment1_pythone.ipynb\" target=\"_parent\"><img src=\"https://colab.research.google.com/assets/colab-badge.svg\" alt=\"Open In Colab\"/></a>"
      ]
    },
    {
      "cell_type": "markdown",
      "source": [],
      "metadata": {
        "id": "GOnIeKDp5Pm5"
      }
    },
    {
      "cell_type": "code",
      "source": [],
      "metadata": {
        "id": "ecvL5YJR5T8c"
      },
      "execution_count": null,
      "outputs": []
    },
    {
      "cell_type": "markdown",
      "source": [
        "1 Explain the key features of Python that make it a popular choice for programming\n",
        "\n",
        "Python is a easy to learn programming language with huge libraries and community support. python is use for development, data visulisation, gaming, backend development etc.\n",
        "\n",
        "1) Easy to learn and write language\n",
        "2) Cross-plateform support\n",
        "3) Extensive standard library\n",
        "4) Community and ecosystem support\n",
        "5) Dynamic memory management\n",
        "\n",
        "These are some of the feacture of python."
      ],
      "metadata": {
        "id": "OnZ9lYgb5bWO"
      }
    },
    {
      "cell_type": "code",
      "source": [],
      "metadata": {
        "id": "Yp7Mcnpq5hEh"
      },
      "execution_count": null,
      "outputs": []
    },
    {
      "cell_type": "markdown",
      "source": [
        "2)  Describe the role of predefined keywords in Python and provide examples of how they are used in a\n",
        "program\n",
        "\n",
        "Answer) Predefine keywords are reserve words or we can say special words which have a specific meaning in python language, which can't use as identifiers. example of predefined keywords are as -\n",
        "\n",
        "print, break, elif, finally, continue, import, lambda, pass, return, try, catch etc.\n",
        "\n",
        "use of predefined keywords as\n",
        "Print is use to print any block of codes.\n",
        "\n",
        "break is use with if else or loop statements where we need to break the iteration example.\n",
        "n =7\n",
        "for i in n:\n",
        "   print(i)\n",
        "   i +=1\n",
        "   if i == 3:\n",
        "      break\n",
        "\n",
        "      \n",
        "\n"
      ],
      "metadata": {
        "id": "WKTm2-4K5nWy"
      }
    },
    {
      "cell_type": "markdown",
      "source": [
        "3) Compare and contrast mutable and immutable objects in Python with examples\n",
        "\n",
        "answer) mutable is when a value of any variable can change after creation is mutable. for example list is a mutable once list created, we can change any item in list with the help of indexing.\n",
        "\n",
        "immutable is when a value of any variable can't change after creation is immutable. for example tuple or string are the example of immutable.\n",
        "once tuple created, we can't change value in that tuple."
      ],
      "metadata": {
        "id": "No3aEGgt7dyv"
      }
    },
    {
      "cell_type": "code",
      "source": [
        "list = [1,2,3,4,5,6,\"ajay\", \"football\", 6+5j ]\n",
        "list"
      ],
      "metadata": {
        "colab": {
          "base_uri": "https://localhost:8080/"
        },
        "id": "zG9TR8Jh7V-j",
        "outputId": "32c09b7a-550d-4e28-e16e-4d5dfa868bc9"
      },
      "execution_count": 10,
      "outputs": [
        {
          "output_type": "execute_result",
          "data": {
            "text/plain": [
              "[1, 2, 3, 4, 5, 6, 'ajay', 'football', (6+5j)]"
            ]
          },
          "metadata": {},
          "execution_count": 10
        }
      ]
    },
    {
      "cell_type": "code",
      "source": [
        "list[1]"
      ],
      "metadata": {
        "colab": {
          "base_uri": "https://localhost:8080/"
        },
        "id": "ipw3cRu28gE8",
        "outputId": "8d396f03-8c9d-4ce4-bf32-8ba38db7a17c"
      },
      "execution_count": 11,
      "outputs": [
        {
          "output_type": "execute_result",
          "data": {
            "text/plain": [
              "2"
            ]
          },
          "metadata": {},
          "execution_count": 11
        }
      ]
    },
    {
      "cell_type": "code",
      "source": [
        "list[1] = \"Two\" #if i want to change 2 as two then we can do as\n",
        "list #call list"
      ],
      "metadata": {
        "colab": {
          "base_uri": "https://localhost:8080/"
        },
        "id": "gBfeFR_i8hza",
        "outputId": "3acddf8f-752d-44db-b0a1-5f55ebede067"
      },
      "execution_count": 12,
      "outputs": [
        {
          "output_type": "execute_result",
          "data": {
            "text/plain": [
              "[1, 'Two', 3, 4, 5, 6, 'ajay', 'football', (6+5j)]"
            ]
          },
          "metadata": {},
          "execution_count": 12
        }
      ]
    },
    {
      "cell_type": "markdown",
      "source": [
        "4) Discuss the different types of operators in Python and provide examples of how they are used.\n",
        "\n",
        "answer) In python operators are many types as:\n",
        "\n",
        "assignment operator, logical operator, conditional operator, bitwise operator, arithematic operator, identity operator, membership operator"
      ],
      "metadata": {
        "id": "_6OsbLUu897C"
      }
    },
    {
      "cell_type": "code",
      "source": [
        "#assignment oprator (=)\n",
        "a = 2\n",
        "b = 3\n",
        "c = a+b # Here + is a arithematic operator\n",
        "print(\"The sum of a +b is:\",c)"
      ],
      "metadata": {
        "colab": {
          "base_uri": "https://localhost:8080/"
        },
        "id": "0ZvO6bPM8vWO",
        "outputId": "ad2e238f-8193-414f-8e36-056c0c6fbafc"
      },
      "execution_count": 18,
      "outputs": [
        {
          "output_type": "stream",
          "name": "stdout",
          "text": [
            "The sum of a +b is: 5\n"
          ]
        }
      ]
    },
    {
      "cell_type": "code",
      "source": [
        "#logical operator (and, or and not)\n",
        "a= 20\n",
        "if a%2==0 and a%5==0:\n",
        "  print(\"this no is divided by both 2 and 5\")\n",
        "else:\n",
        "  print(\"This no is either divide by 2 or 5\")"
      ],
      "metadata": {
        "colab": {
          "base_uri": "https://localhost:8080/"
        },
        "id": "SXTIlukR_vq8",
        "outputId": "24a03a8e-0771-40c4-bb71-f2ca1d8e8269"
      },
      "execution_count": 20,
      "outputs": [
        {
          "output_type": "stream",
          "name": "stdout",
          "text": [
            "this no is divided by both 2 and 5\n"
          ]
        }
      ]
    },
    {
      "cell_type": "code",
      "source": [
        "# membership operator (in or not in)\n",
        "\n",
        "list = [1,2,3,4,5,6,\"school\", \"college\", \"singer\", 8+5j]\n",
        ""
      ],
      "metadata": {
        "id": "Jfz1TKz3Afda"
      },
      "execution_count": 21,
      "outputs": []
    },
    {
      "cell_type": "code",
      "source": [
        "list"
      ],
      "metadata": {
        "colab": {
          "base_uri": "https://localhost:8080/"
        },
        "id": "pRaRufIsBHBH",
        "outputId": "c46e3858-9c59-4f94-d402-dc3407acfe07"
      },
      "execution_count": 22,
      "outputs": [
        {
          "output_type": "execute_result",
          "data": {
            "text/plain": [
              "[1, 2, 3, 4, 5, 6, 'school', 'college', 'singer', (8+5j)]"
            ]
          },
          "metadata": {},
          "execution_count": 22
        }
      ]
    },
    {
      "cell_type": "code",
      "source": [
        "\"school\" in list # its give as true means school is present in this list."
      ],
      "metadata": {
        "colab": {
          "base_uri": "https://localhost:8080/"
        },
        "id": "tADXaGHsBIE-",
        "outputId": "18c98379-45c9-4444-9827-e726502a3bdb"
      },
      "execution_count": 24,
      "outputs": [
        {
          "output_type": "execute_result",
          "data": {
            "text/plain": [
              "True"
            ]
          },
          "metadata": {},
          "execution_count": 24
        }
      ]
    },
    {
      "cell_type": "markdown",
      "source": [
        "5) Explain the concept of type casting in Python with examples\n",
        "\n",
        "answer) type casting is converting a variable type from one type to another.\n",
        "from str to int, int to float, float to int."
      ],
      "metadata": {
        "id": "LogvcqbbBpdq"
      }
    },
    {
      "cell_type": "code",
      "source": [
        "number = \"5\"\n",
        "print(number)\n",
        "print(type(number)) # see here we pass a int but it shows type as str so in some conditon we have to convert data type. in that case we do as below code."
      ],
      "metadata": {
        "colab": {
          "base_uri": "https://localhost:8080/"
        },
        "id": "Up1UO-dUBMEm",
        "outputId": "7522c0ba-9b69-4e66-cff9-59f72f7e633d"
      },
      "execution_count": 27,
      "outputs": [
        {
          "output_type": "stream",
          "name": "stdout",
          "text": [
            "5\n",
            "<class 'str'>\n"
          ]
        }
      ]
    },
    {
      "cell_type": "code",
      "source": [
        "number = '10'\n",
        "num = int(number)\n",
        "print(num)\n",
        "print(type(num))\n"
      ],
      "metadata": {
        "colab": {
          "base_uri": "https://localhost:8080/"
        },
        "id": "NeSPQwi9CH3-",
        "outputId": "b9ccb615-941e-450e-bc37-4535b2f221c1"
      },
      "execution_count": 36,
      "outputs": [
        {
          "output_type": "stream",
          "name": "stdout",
          "text": [
            "10\n",
            "<class 'int'>\n"
          ]
        }
      ]
    },
    {
      "cell_type": "markdown",
      "source": [
        "6) How do conditional statements work in Python? Illustrate with examples\n",
        "\n",
        "answer) onditional statements in Python allow you to execute certain blocks of code based on whether a specific condition evaluates to True or False.\n",
        "\n",
        "if else statement\n",
        "nested if else statement\n",
        "loops statments - for loop, while loop\n"
      ],
      "metadata": {
        "id": "FeRHziTHDKkC"
      }
    },
    {
      "cell_type": "code",
      "source": [
        "number = 10\n",
        "\n",
        "if number > 0:\n",
        "    print(\"Positive number\")\n",
        "    if number % 2 == 0:\n",
        "        print(\"It is even.\")\n",
        "else:\n",
        "    print(\"Non-positive number\")"
      ],
      "metadata": {
        "colab": {
          "base_uri": "https://localhost:8080/"
        },
        "id": "a0lYrk0PCfo-",
        "outputId": "94f134c2-fc16-4136-da40-85f5df198c61"
      },
      "execution_count": 37,
      "outputs": [
        {
          "output_type": "stream",
          "name": "stdout",
          "text": [
            "Positive number\n",
            "It is even.\n"
          ]
        }
      ]
    },
    {
      "cell_type": "markdown",
      "source": [
        "7) Describe the different types of loops in Python and their use cases with examples\n",
        "\n",
        "answer) there are primarily two types of loops: for loops and while loops.\n",
        "for loop and\n",
        "while loop"
      ],
      "metadata": {
        "id": "Hh-cw7Q8D0cp"
      }
    },
    {
      "cell_type": "code",
      "source": [
        "count = 5\n",
        "while count > 0:\n",
        "    print(count)\n",
        "    count -= 1"
      ],
      "metadata": {
        "colab": {
          "base_uri": "https://localhost:8080/"
        },
        "id": "0W7uWI2-EH5i",
        "outputId": "eb57351a-c4d0-4bfa-db89-b0849ccbd445"
      },
      "execution_count": 38,
      "outputs": [
        {
          "output_type": "stream",
          "name": "stdout",
          "text": [
            "5\n",
            "4\n",
            "3\n",
            "2\n",
            "1\n"
          ]
        }
      ]
    },
    {
      "cell_type": "code",
      "source": [
        "for num in range(10):\n",
        "    if num == 5:\n",
        "        break  # Exits the loop when num is 5\n",
        "    print(num)"
      ],
      "metadata": {
        "colab": {
          "base_uri": "https://localhost:8080/"
        },
        "id": "FYe3yo4gEPhh",
        "outputId": "85f430f6-9951-442b-ddda-ccd56d674cae"
      },
      "execution_count": 39,
      "outputs": [
        {
          "output_type": "stream",
          "name": "stdout",
          "text": [
            "0\n",
            "1\n",
            "2\n",
            "3\n",
            "4\n"
          ]
        }
      ]
    },
    {
      "cell_type": "code",
      "source": [],
      "metadata": {
        "id": "4dO0YduvEU96"
      },
      "execution_count": null,
      "outputs": []
    }
  ]
}