{
 "cells": [
  {
   "cell_type": "markdown",
   "id": "26c86cb7-44c1-43da-84f7-3f4b27b238bf",
   "metadata": {},
   "source": [
    "#Q1. How do you comment code in Python? What are the different types of comments?\n"
   ]
  },
  {
   "cell_type": "code",
   "execution_count": 11,
   "id": "0290e08e-a3cc-40b6-beac-ffee9e69eca5",
   "metadata": {},
   "outputs": [
    {
     "data": {
      "text/plain": [
       "'\\n\\nWhen we have to comment a para or multiline text then single\\n\\nline comment might not be a good way to comment it. so that multiline\\n\\ncomment we are using \\n'"
      ]
     },
     "execution_count": 11,
     "metadata": {},
     "output_type": "execute_result"
    }
   ],
   "source": [
    "#Comment is use for explain the codes, we can use '#' for single line comment and ''' for multiline comment ''' and \"\"\" this also for multiline comment \"\"\"\n",
    "\n",
    "#examples are: \n",
    "    \n",
    "# this is the single line comment \n",
    "\n",
    "'''\n",
    "\n",
    "When we have to comment a para or multiline text then single\n",
    "line comment might not be a good way to comment it. so that multiline\n",
    "comment we are using \n",
    "'''"
   ]
  },
  {
   "cell_type": "markdown",
   "id": "774750b6-f73a-4f02-8bab-d4eb7c4bc32a",
   "metadata": {},
   "source": [
    "Q2. What are variables in Python? How do you declare and assign values to variables?"
   ]
  },
  {
   "cell_type": "code",
   "execution_count": 14,
   "id": "b58c3d21-a505-43b1-8a67-02e78afbcd05",
   "metadata": {},
   "outputs": [],
   "source": [
    "#Variables are use to store a value in python, var may be a str , a number and can start with _ sign. but not with special charater such as @, $,%.\n",
    "# when = sign we can assign a value to a variable .\n",
    "\n",
    "#example \n",
    "\n",
    "var1 = 234\n",
    "name = \"ajay\"\n",
    "_list = \"president\""
   ]
  },
  {
   "cell_type": "code",
   "execution_count": 18,
   "id": "17f70e1f-431a-4787-9346-d673f745a6d8",
   "metadata": {},
   "outputs": [
    {
     "name": "stdout",
     "output_type": "stream",
     "text": [
      "234 ajay president\n"
     ]
    }
   ],
   "source": [
    "print(var1, name , _list)"
   ]
  },
  {
   "cell_type": "markdown",
   "id": "3f063948-bf80-4b77-82b0-1b35590cd304",
   "metadata": {},
   "source": [
    "Q3. How do you convert one data type to another in Python?"
   ]
  },
  {
   "cell_type": "code",
   "execution_count": 26,
   "id": "e0f77346-1593-4d87-b2f0-3f861fed27c2",
   "metadata": {},
   "outputs": [
    {
     "name": "stdout",
     "output_type": "stream",
     "text": [
      "12\n"
     ]
    }
   ],
   "source": [
    "#Through \"casting type\" we can convert one data type to another, as when we get input from the user, it is str and if we want to take int from the user then we have to convert it in int. \n",
    "\n",
    "my_float = 12.30\n",
    "int = int(my_float)\n",
    "print(int)"
   ]
  },
  {
   "cell_type": "code",
   "execution_count": 27,
   "id": "e96ef0bd-4497-49fb-b39f-7dbd0cb3cbac",
   "metadata": {},
   "outputs": [
    {
     "data": {
      "text/plain": [
       "str"
      ]
     },
     "execution_count": 27,
     "metadata": {},
     "output_type": "execute_result"
    }
   ],
   "source": [
    "s = \"125456\"\n",
    "type(s)"
   ]
  },
  {
   "cell_type": "code",
   "execution_count": 1,
   "id": "aacd7b29-6ede-4bd3-94bc-6c6e66d4fbf5",
   "metadata": {},
   "outputs": [
    {
     "name": "stdout",
     "output_type": "stream",
     "text": [
      "123\n"
     ]
    }
   ],
   "source": [
    "num = \"123\"\n",
    "x = int(num)\n",
    "print(x)"
   ]
  },
  {
   "cell_type": "markdown",
   "id": "98766e35-2c5b-4b83-9553-d9fead1c0f81",
   "metadata": {},
   "source": [
    "Q4. How do you write and execute a Python script from the command line?"
   ]
  },
  {
   "cell_type": "markdown",
   "id": "8cad0703-9394-4eb4-a535-958859ace81a",
   "metadata": {},
   "source": [
    "\n",
    "we can write our code in cells inside the jupyter nootbook and with shift+enter or through the button given in the top of the page, can execute our code."
   ]
  },
  {
   "cell_type": "markdown",
   "id": "6d1dec5f-7f11-4bbf-b807-867e588010eb",
   "metadata": {},
   "source": [
    "Q5. Given a list my_list = [1, 2, 3, 4, 5], write the code to slice the list and obtain the sub-list [2, 3]."
   ]
  },
  {
   "cell_type": "code",
   "execution_count": 4,
   "id": "b480a23a-8479-4425-8a09-b59b31a2e37e",
   "metadata": {},
   "outputs": [
    {
     "data": {
      "text/plain": [
       "[2, 3]"
      ]
     },
     "execution_count": 4,
     "metadata": {},
     "output_type": "execute_result"
    }
   ],
   "source": [
    "my_list = [1,2,3,4,5]\n",
    "my_list[1:3]"
   ]
  },
  {
   "cell_type": "markdown",
   "id": "8d7e4848-e6c2-48bf-a92a-b22968682614",
   "metadata": {},
   "source": [
    "Q6. What is a complex number in mathematics, and how is it represented in Python?\n",
    "\n",
    "ans - Complex number is a combination of real and imaginary number. In python complex number is represent by a+bj\n",
    "for example \n",
    "\n",
    "var1 = 2+6j"
   ]
  },
  {
   "cell_type": "code",
   "execution_count": 6,
   "id": "ded4e1c8-bd1d-43f1-91c7-bcac7c10da7c",
   "metadata": {},
   "outputs": [],
   "source": [
    "var1 = 5+6j"
   ]
  },
  {
   "cell_type": "code",
   "execution_count": 7,
   "id": "88b1a7b4-d7f2-4fc3-9afc-873b98a2196a",
   "metadata": {},
   "outputs": [
    {
     "data": {
      "text/plain": [
       "(5+6j)"
      ]
     },
     "execution_count": 7,
     "metadata": {},
     "output_type": "execute_result"
    }
   ],
   "source": [
    "var1"
   ]
  },
  {
   "cell_type": "markdown",
   "id": "d4f464fd-fdfa-4c27-8943-8076b1313468",
   "metadata": {},
   "source": [
    "Q7. What is the correct way to declare a variable named age and assign the value 25 to it?"
   ]
  },
  {
   "cell_type": "code",
   "execution_count": 8,
   "id": "9dbdb529-ac99-4a3d-b4f9-5cd2a4be2d0d",
   "metadata": {},
   "outputs": [
    {
     "data": {
      "text/plain": [
       "25"
      ]
     },
     "execution_count": 8,
     "metadata": {},
     "output_type": "execute_result"
    }
   ],
   "source": [
    "age = 25\n",
    "age"
   ]
  },
  {
   "cell_type": "markdown",
   "id": "f0166553-7c30-4fc9-8044-5a7cf35fea2b",
   "metadata": {},
   "source": [
    "Q8. Declare a variable named price and assign the value 9.99 to it. What data type does this variable\n",
    "belong to?"
   ]
  },
  {
   "cell_type": "code",
   "execution_count": 9,
   "id": "5b6358ef-94fd-47fa-bec6-1115e026e316",
   "metadata": {},
   "outputs": [
    {
     "name": "stdout",
     "output_type": "stream",
     "text": [
      "9.99\n",
      "<class 'float'>\n"
     ]
    }
   ],
   "source": [
    "price = 9.99\n",
    "print(price)\n",
    "print(type(price))"
   ]
  },
  {
   "cell_type": "markdown",
   "id": "7569ea2c-eb2d-4fe6-9b91-ab72a2a7cc51",
   "metadata": {},
   "source": [
    "Q9. Create a variable named name and assign your full name to it as a string. How would you print the\n",
    "value of this variable?"
   ]
  },
  {
   "cell_type": "code",
   "execution_count": 12,
   "id": "c4f46d0b-5122-4493-8c82-582adb3392ee",
   "metadata": {},
   "outputs": [
    {
     "name": "stdout",
     "output_type": "stream",
     "text": [
      "Ajay Shrivas\n"
     ]
    }
   ],
   "source": [
    "name = \"Ajay Shrivas\"\n",
    "print(name)"
   ]
  },
  {
   "cell_type": "markdown",
   "id": "deea5fcb-8b5b-4871-b687-9df2e473904b",
   "metadata": {},
   "source": [
    "Q10. Given the string \"Hello, World!\", extract the substring \"World\"."
   ]
  },
  {
   "cell_type": "code",
   "execution_count": 13,
   "id": "7fc446a8-609a-409e-bc2c-9beb0737dacd",
   "metadata": {},
   "outputs": [
    {
     "data": {
      "text/plain": [
       "'World!'"
      ]
     },
     "execution_count": 13,
     "metadata": {},
     "output_type": "execute_result"
    }
   ],
   "source": [
    "my_str = \"Hello, World!\"\n",
    "my_str[7:]"
   ]
  },
  {
   "cell_type": "markdown",
   "id": "1749bd88-1528-40e4-b584-06ed0601111d",
   "metadata": {},
   "source": [
    "Q11. Create a variable named \"is_student\" and assign it a boolean value indicating whether you are\n",
    "currently a student or not."
   ]
  },
  {
   "cell_type": "code",
   "execution_count": 14,
   "id": "fb31f46d-15c7-407e-b5df-ea3f36f425ce",
   "metadata": {},
   "outputs": [],
   "source": [
    "is_student = False"
   ]
  },
  {
   "cell_type": "code",
   "execution_count": 15,
   "id": "ba8e82e6-5462-4fc8-9d8c-50402dfdf723",
   "metadata": {},
   "outputs": [
    {
     "data": {
      "text/plain": [
       "False"
      ]
     },
     "execution_count": 15,
     "metadata": {},
     "output_type": "execute_result"
    }
   ],
   "source": [
    "is_student"
   ]
  },
  {
   "cell_type": "code",
   "execution_count": null,
   "id": "50c1e8fc-c5e1-4994-8da9-def20a5ed085",
   "metadata": {},
   "outputs": [],
   "source": []
  }
 ],
 "metadata": {
  "kernelspec": {
   "display_name": "Python 3 (ipykernel)",
   "language": "python",
   "name": "python3"
  },
  "language_info": {
   "codemirror_mode": {
    "name": "ipython",
    "version": 3
   },
   "file_extension": ".py",
   "mimetype": "text/x-python",
   "name": "python",
   "nbconvert_exporter": "python",
   "pygments_lexer": "ipython3",
   "version": "3.10.8"
  }
 },
 "nbformat": 4,
 "nbformat_minor": 5
}
